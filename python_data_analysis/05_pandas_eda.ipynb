{
  "nbformat": 4,
  "nbformat_minor": 0,
  "metadata": {
    "colab": {
      "name": "05_pandas_eda.ipynb",
      "provenance": [],
      "authorship_tag": "ABX9TyOOGhhEH9pgCZlF1QjvdGH1",
      "include_colab_link": true
    },
    "kernelspec": {
      "name": "python3",
      "display_name": "Python 3"
    }
  },
  "cells": [
    {
      "cell_type": "markdown",
      "metadata": {
        "id": "view-in-github",
        "colab_type": "text"
      },
      "source": [
        "<a href=\"https://colab.research.google.com/github/yooste/SOLUX_COVID_19/blob/main/python_data_analysis/05_pandas_eda.ipynb\" target=\"_parent\"><img src=\"https://colab.research.google.com/assets/colab-badge.svg\" alt=\"Open In Colab\"/></a>"
      ]
    },
    {
      "cell_type": "markdown",
      "metadata": {
        "id": "npVtGDCSAbc1"
      },
      "source": [
        "#**pandas 라이브러리와 탐색적 데이터 분석 과정 익히기**"
      ]
    },
    {
      "cell_type": "markdown",
      "metadata": {
        "id": "aujc3VAsAsAP"
      },
      "source": [
        "**1. 탐색적 데이터 분석 과정**\r\n",
        "* EDA(Exploratory Data Analysis)라고 함\r\n",
        "* 데이터분석을 위해 raw data를 다양한 각도에서 관찰하여, 데이터를 이해하는 과정\r\n",
        "  * 데이터 분석 주제마다 EDA를 통해 진행하는 과정은 각양각색이므로, 정형화된 패턴은 없지만,\r\n",
        "  * 크게 다음과 같은 3가지 과정은 기본이 될 수 있으므로 다음 3가지 과정을 기본으로 이해하기로 함\r\n",
        "    1. 데이터의 출처와 주제에 대해 이해\r\n",
        "    2. 데이터의 크기 확인\r\n",
        "    3. 데이터 구성 요소(feature)의 속성(특징) 확인\r\n",
        "      * feature: 데이터 구성 요소를 의미함\r\n",
        "      * 예: 어떤 초등학교에 학생 성적을 기록한 데이터가 있다면, 학생 이름, 과목별 성적 등을 feature로 볼 수 있음(가볍게 field/column이라고 봐도 무방함)\r\n",
        "  \r\n",
        "  > 존 튜카라는 미국 통계학자가 제안한 분석 방법론\r\n",
        "  \r\n",
        "  > 기존 통계학이 가설을 세우고, 가설을 검정하는 방법론에 치우쳐, 데이터 본래의 정보를 파악하기 어려우므로, 본연의 데이터 탐색에 집중하자는 방법론\r\n",
        "\r\n"
      ]
    },
    {
      "cell_type": "markdown",
      "metadata": {
        "id": "Mj_Cz6rQBqB9"
      },
      "source": [
        "**2. 실제 데이터로 pandas 라이브러리와 탐색적 분석 과정 익히기**\r\n",
        "\r\n",
        "코로나 바이러스 데이터와 함께 pandas 라이브러리 익히기\r\n",
        "* COVID-19-master 폴더 확인\r\n",
        "  * 데이터 다운로드: https://github.com/CSSEGISandData/COVID-19\r\n",
        "  * 데이터 압축 풀고 COVID-19-master 폴더를 통째로 pandas_eda 주피터 노트북이 있는 폴더 안에 하위 폴더로 이동"
      ]
    },
    {
      "cell_type": "markdown",
      "metadata": {
        "id": "IHXpBeuBD2OH"
      },
      "source": [
        "pandas 라이브러리로 csv 파일 읽기\r\n",
        "* csv 파일을 pandas dataframe 으로 읽기 위해 read_csv() 함수를 사용함\r\n",
        "* csv 구분자는 quotechar=구분자 옵션을 넣어서 구분자가 다른 경우도 읽기 가능\r\n",
        "  ```\r\n",
        "  doc = pd.read_csv(\"파일명\", encoding='utf-8-sig', quotechar=',')\r\n",
        "  ```\r\n",
        "* 에러 나는 데이터는 항상 있을 수 있음. 해당 데이터는 생략하는 것이 일반적임\r\n",
        "  ```\r\n",
        "  doc = pd.read_csv(\"파일명\", encoding='utf-8-sig', error_bad_lines=False)\r\n",
        "  ```\r\n"
      ]
    },
    {
      "cell_type": "code",
      "metadata": {
        "id": "1AYN2_WGEbKN"
      },
      "source": [
        "import pandas as pd\r\n",
        "doc = pd.read_csv(\"COVID-19-master/csse_covid_19_data/csse_covid_19_daily_reports/04-01-2020.csv\",encoding='utf-8-sig')"
      ],
      "execution_count": null,
      "outputs": []
    },
    {
      "cell_type": "markdown",
      "metadata": {
        "id": "rT_7NMSVJ55x"
      },
      "source": [
        "**참고: pandas 라이브러리로 엑셀 파일 읽기**\r\n",
        "* 엑셀 데이터 읽기 (맨 앞에 있는 쉬트의 데이터를 읽음)\r\n",
        "  ``` \r\n",
        "  pd. read_excel(\"파일명\")\r\n",
        "  ```\r\n",
        "* 특정 쉬트 데이터 읽기: sheet_name 옵션 사용해서, 엑셀 파일의 특정 쉬트를 명시적으로 지정 가능\r\n",
        "  ```\r\n",
        "  pd.read_excel(파일명, sheet_name=쉬트명)\r\n",
        "  ```"
      ]
    },
    {
      "cell_type": "markdown",
      "metadata": {
        "id": "HVjUPQIEKblT"
      },
      "source": [
        "**탐색적 데이터 분석: 1. 데이터의 출처와 주제에 대해 이해**\r\n",
        "* 국가별 코로나 바이러스 daily 현황 자료\r\n",
        "* Johns Hopkins University Center for Systems Science and Engineering(JHU CSSE)에서 작성\r\n",
        "* 데이터 소스는 https://github.com/CSSEGISandData/COVID-19/tree/who_coivd_19_situation_reports 에 명시\r\n",
        "  * 실제 데이터 분석에서는 raw data를 어떻게 가져왔는지에 대해서도 세세히 알 필요가 있을 때가 있음\r\n",
        "    * PDF로 만들어진 공식 문서에서 추출한 데이터와 공식 웹페이지를 크롤링해서 얻은 자료를 CSV 파일로 생성한 것으로 보임\r\n",
        "  * 위 데이터는 테스트용 데이터이므로 출처에 대해서는 이 정도만 파악하기로 함"
      ]
    },
    {
      "cell_type": "markdown",
      "metadata": {
        "id": "fuNyDNNlLE42"
      },
      "source": [
        "**탐색적 데이터 분석: 2. 데이터의 크기 확인**\r\n"
      ]
    },
    {
      "cell_type": "markdown",
      "metadata": {
        "id": "r7dQ5lvPLWXL"
      },
      "source": [
        "**1. 데이터를 pandas로 읽은 후, 가장 먼저 하는 일**\r\n",
        "* 데이터 일부 확인하기\r\n",
        "  * head(): 처음 5개(디폴트)의 데이터 확인하기\r\n",
        "    * head(n=10): 처음 10개(조정 가능)의 데이터 확인하기\r\n",
        "  * tail(): 마지막 5개의 데이터 확인하기\r\n",
        "    * tail(n=10): 마지막 10개(조정 가능)의 데이터 확인하기"
      ]
    },
    {
      "cell_type": "code",
      "metadata": {
        "colab": {
          "base_uri": "https://localhost:8080/",
          "height": 316
        },
        "id": "gch1MUSnJXfK",
        "outputId": "39956c38-f0f8-4c3b-ab5f-c42ff13e5a31"
      },
      "source": [
        "doc.head()"
      ],
      "execution_count": null,
      "outputs": [
        {
          "output_type": "execute_result",
          "data": {
            "text/html": [
              "<div>\n",
              "<style scoped>\n",
              "    .dataframe tbody tr th:only-of-type {\n",
              "        vertical-align: middle;\n",
              "    }\n",
              "\n",
              "    .dataframe tbody tr th {\n",
              "        vertical-align: top;\n",
              "    }\n",
              "\n",
              "    .dataframe thead th {\n",
              "        text-align: right;\n",
              "    }\n",
              "</style>\n",
              "<table border=\"1\" class=\"dataframe\">\n",
              "  <thead>\n",
              "    <tr style=\"text-align: right;\">\n",
              "      <th></th>\n",
              "      <th>FIPS</th>\n",
              "      <th>Admin2</th>\n",
              "      <th>Province_State</th>\n",
              "      <th>Country_Region</th>\n",
              "      <th>Last_Update</th>\n",
              "      <th>Lat</th>\n",
              "      <th>Long_</th>\n",
              "      <th>Confirmed</th>\n",
              "      <th>Deaths</th>\n",
              "      <th>Recovered</th>\n",
              "      <th>Active</th>\n",
              "      <th>Combined_Key</th>\n",
              "    </tr>\n",
              "  </thead>\n",
              "  <tbody>\n",
              "    <tr>\n",
              "      <th>0</th>\n",
              "      <td>45001.0</td>\n",
              "      <td>Abbeville</td>\n",
              "      <td>South Carolina</td>\n",
              "      <td>US</td>\n",
              "      <td>2020-04-01 21:58:49</td>\n",
              "      <td>34.223334</td>\n",
              "      <td>-82.461707</td>\n",
              "      <td>4</td>\n",
              "      <td>0</td>\n",
              "      <td>0</td>\n",
              "      <td>0</td>\n",
              "      <td>Abbeville, South Carolina, US</td>\n",
              "    </tr>\n",
              "    <tr>\n",
              "      <th>1</th>\n",
              "      <td>22001.0</td>\n",
              "      <td>Acadia</td>\n",
              "      <td>Louisiana</td>\n",
              "      <td>US</td>\n",
              "      <td>2020-04-01 21:58:49</td>\n",
              "      <td>30.295065</td>\n",
              "      <td>-92.414197</td>\n",
              "      <td>47</td>\n",
              "      <td>1</td>\n",
              "      <td>0</td>\n",
              "      <td>0</td>\n",
              "      <td>Acadia, Louisiana, US</td>\n",
              "    </tr>\n",
              "    <tr>\n",
              "      <th>2</th>\n",
              "      <td>51001.0</td>\n",
              "      <td>Accomack</td>\n",
              "      <td>Virginia</td>\n",
              "      <td>US</td>\n",
              "      <td>2020-04-01 21:58:49</td>\n",
              "      <td>37.767072</td>\n",
              "      <td>-75.632346</td>\n",
              "      <td>7</td>\n",
              "      <td>0</td>\n",
              "      <td>0</td>\n",
              "      <td>0</td>\n",
              "      <td>Accomack, Virginia, US</td>\n",
              "    </tr>\n",
              "    <tr>\n",
              "      <th>3</th>\n",
              "      <td>16001.0</td>\n",
              "      <td>Ada</td>\n",
              "      <td>Idaho</td>\n",
              "      <td>US</td>\n",
              "      <td>2020-04-01 21:58:49</td>\n",
              "      <td>43.452658</td>\n",
              "      <td>-116.241552</td>\n",
              "      <td>195</td>\n",
              "      <td>3</td>\n",
              "      <td>0</td>\n",
              "      <td>0</td>\n",
              "      <td>Ada, Idaho, US</td>\n",
              "    </tr>\n",
              "    <tr>\n",
              "      <th>4</th>\n",
              "      <td>19001.0</td>\n",
              "      <td>Adair</td>\n",
              "      <td>Iowa</td>\n",
              "      <td>US</td>\n",
              "      <td>2020-04-01 21:58:49</td>\n",
              "      <td>41.330756</td>\n",
              "      <td>-94.471059</td>\n",
              "      <td>1</td>\n",
              "      <td>0</td>\n",
              "      <td>0</td>\n",
              "      <td>0</td>\n",
              "      <td>Adair, Iowa, US</td>\n",
              "    </tr>\n",
              "  </tbody>\n",
              "</table>\n",
              "</div>"
            ],
            "text/plain": [
              "      FIPS     Admin2  ... Active                   Combined_Key\n",
              "0  45001.0  Abbeville  ...      0  Abbeville, South Carolina, US\n",
              "1  22001.0     Acadia  ...      0          Acadia, Louisiana, US\n",
              "2  51001.0   Accomack  ...      0         Accomack, Virginia, US\n",
              "3  16001.0        Ada  ...      0                 Ada, Idaho, US\n",
              "4  19001.0      Adair  ...      0                Adair, Iowa, US\n",
              "\n",
              "[5 rows x 12 columns]"
            ]
          },
          "metadata": {
            "tags": []
          },
          "execution_count": 3
        }
      ]
    },
    {
      "cell_type": "code",
      "metadata": {
        "colab": {
          "base_uri": "https://localhost:8080/",
          "height": 299
        },
        "id": "Xe3zQnHdLrAG",
        "outputId": "cd542180-7467-4bce-8043-e87a5760a535"
      },
      "source": [
        "doc.tail()"
      ],
      "execution_count": null,
      "outputs": [
        {
          "output_type": "execute_result",
          "data": {
            "text/html": [
              "<div>\n",
              "<style scoped>\n",
              "    .dataframe tbody tr th:only-of-type {\n",
              "        vertical-align: middle;\n",
              "    }\n",
              "\n",
              "    .dataframe tbody tr th {\n",
              "        vertical-align: top;\n",
              "    }\n",
              "\n",
              "    .dataframe thead th {\n",
              "        text-align: right;\n",
              "    }\n",
              "</style>\n",
              "<table border=\"1\" class=\"dataframe\">\n",
              "  <thead>\n",
              "    <tr style=\"text-align: right;\">\n",
              "      <th></th>\n",
              "      <th>FIPS</th>\n",
              "      <th>Admin2</th>\n",
              "      <th>Province_State</th>\n",
              "      <th>Country_Region</th>\n",
              "      <th>Last_Update</th>\n",
              "      <th>Lat</th>\n",
              "      <th>Long_</th>\n",
              "      <th>Confirmed</th>\n",
              "      <th>Deaths</th>\n",
              "      <th>Recovered</th>\n",
              "      <th>Active</th>\n",
              "      <th>Combined_Key</th>\n",
              "    </tr>\n",
              "  </thead>\n",
              "  <tbody>\n",
              "    <tr>\n",
              "      <th>2480</th>\n",
              "      <td>NaN</td>\n",
              "      <td>NaN</td>\n",
              "      <td>NaN</td>\n",
              "      <td>Venezuela</td>\n",
              "      <td>2020-04-01 21:58:34</td>\n",
              "      <td>6.423800</td>\n",
              "      <td>-66.589700</td>\n",
              "      <td>143</td>\n",
              "      <td>3</td>\n",
              "      <td>41</td>\n",
              "      <td>99</td>\n",
              "      <td>Venezuela</td>\n",
              "    </tr>\n",
              "    <tr>\n",
              "      <th>2481</th>\n",
              "      <td>NaN</td>\n",
              "      <td>NaN</td>\n",
              "      <td>NaN</td>\n",
              "      <td>Vietnam</td>\n",
              "      <td>2020-04-01 21:58:34</td>\n",
              "      <td>14.058324</td>\n",
              "      <td>108.277199</td>\n",
              "      <td>218</td>\n",
              "      <td>0</td>\n",
              "      <td>63</td>\n",
              "      <td>155</td>\n",
              "      <td>Vietnam</td>\n",
              "    </tr>\n",
              "    <tr>\n",
              "      <th>2482</th>\n",
              "      <td>NaN</td>\n",
              "      <td>NaN</td>\n",
              "      <td>NaN</td>\n",
              "      <td>West Bank and Gaza</td>\n",
              "      <td>2020-04-01 21:58:34</td>\n",
              "      <td>31.952200</td>\n",
              "      <td>35.233200</td>\n",
              "      <td>134</td>\n",
              "      <td>1</td>\n",
              "      <td>18</td>\n",
              "      <td>115</td>\n",
              "      <td>West Bank and Gaza</td>\n",
              "    </tr>\n",
              "    <tr>\n",
              "      <th>2483</th>\n",
              "      <td>NaN</td>\n",
              "      <td>NaN</td>\n",
              "      <td>NaN</td>\n",
              "      <td>Zambia</td>\n",
              "      <td>2020-04-01 21:58:34</td>\n",
              "      <td>-13.133897</td>\n",
              "      <td>27.849332</td>\n",
              "      <td>36</td>\n",
              "      <td>0</td>\n",
              "      <td>0</td>\n",
              "      <td>36</td>\n",
              "      <td>Zambia</td>\n",
              "    </tr>\n",
              "    <tr>\n",
              "      <th>2484</th>\n",
              "      <td>NaN</td>\n",
              "      <td>NaN</td>\n",
              "      <td>NaN</td>\n",
              "      <td>Zimbabwe</td>\n",
              "      <td>2020-04-01 21:58:34</td>\n",
              "      <td>-19.015438</td>\n",
              "      <td>29.154857</td>\n",
              "      <td>8</td>\n",
              "      <td>1</td>\n",
              "      <td>0</td>\n",
              "      <td>7</td>\n",
              "      <td>Zimbabwe</td>\n",
              "    </tr>\n",
              "  </tbody>\n",
              "</table>\n",
              "</div>"
            ],
            "text/plain": [
              "      FIPS Admin2 Province_State  ... Recovered Active        Combined_Key\n",
              "2480   NaN    NaN            NaN  ...        41     99           Venezuela\n",
              "2481   NaN    NaN            NaN  ...        63    155             Vietnam\n",
              "2482   NaN    NaN            NaN  ...        18    115  West Bank and Gaza\n",
              "2483   NaN    NaN            NaN  ...         0     36              Zambia\n",
              "2484   NaN    NaN            NaN  ...         0      7            Zimbabwe\n",
              "\n",
              "[5 rows x 12 columns]"
            ]
          },
          "metadata": {
            "tags": []
          },
          "execution_count": 4
        }
      ]
    },
    {
      "cell_type": "markdown",
      "metadata": {
        "id": "1tLMlGOmLxfW"
      },
      "source": [
        "**2. 보다 다양한 데이터 정보 확인하기**\r\n",
        "* shape: 데이터의 row, column 사이즈 확인\r\n",
        "* info(): column별 데이터 타입과 실제 데이터가 있는 사이즈 확인\r\n",
        "  * raw data는 일부 데이터가 없는 경우가 많기 때문에, 실제 데이터의 사이즈 확인이 필요함"
      ]
    },
    {
      "cell_type": "code",
      "metadata": {
        "colab": {
          "base_uri": "https://localhost:8080/"
        },
        "id": "Hcd-DgulLuaS",
        "outputId": "f8d9fc25-33b5-40ab-b1a3-08b5b5f1d88d"
      },
      "source": [
        "doc.shape"
      ],
      "execution_count": null,
      "outputs": [
        {
          "output_type": "execute_result",
          "data": {
            "text/plain": [
              "(2485, 12)"
            ]
          },
          "metadata": {
            "tags": []
          },
          "execution_count": 6
        }
      ]
    },
    {
      "cell_type": "code",
      "metadata": {
        "colab": {
          "base_uri": "https://localhost:8080/"
        },
        "id": "5o2tcLb5MAQJ",
        "outputId": "1849e815-9a7c-4b61-b623-2f81e3720ec6"
      },
      "source": [
        "doc.info()"
      ],
      "execution_count": null,
      "outputs": [
        {
          "output_type": "stream",
          "text": [
            "<class 'pandas.core.frame.DataFrame'>\n",
            "RangeIndex: 2485 entries, 0 to 2484\n",
            "Data columns (total 12 columns):\n",
            " #   Column          Non-Null Count  Dtype  \n",
            "---  ------          --------------  -----  \n",
            " 0   FIPS            2171 non-null   float64\n",
            " 1   Admin2          2221 non-null   object \n",
            " 2   Province_State  2308 non-null   object \n",
            " 3   Country_Region  2485 non-null   object \n",
            " 4   Last_Update     2485 non-null   object \n",
            " 5   Lat             2484 non-null   float64\n",
            " 6   Long_           2484 non-null   float64\n",
            " 7   Confirmed       2485 non-null   int64  \n",
            " 8   Deaths          2485 non-null   int64  \n",
            " 9   Recovered       2485 non-null   int64  \n",
            " 10  Active          2485 non-null   int64  \n",
            " 11  Combined_Key    2485 non-null   object \n",
            "dtypes: float64(3), int64(4), object(5)\n",
            "memory usage: 233.1+ KB\n"
          ],
          "name": "stdout"
        }
      ]
    },
    {
      "cell_type": "markdown",
      "metadata": {
        "id": "MryJc-PKMa2J"
      },
      "source": [
        "**탐색적 데이터 분석: 3. 데이터 구성 요소(feature)의 속성(특징) 확인**"
      ]
    },
    {
      "cell_type": "markdown",
      "metadata": {
        "id": "PfPAKNNZMf0O"
      },
      "source": [
        "**1. 각 column 이해하기**\r\n",
        "* raw data에는 다양한 column이 있는 경우가 많고, 이 중에서 내가 사용할 column에 대해서는 확실히 이해하고 있어야 함\r\n",
        "* Country_Region: 국가, Lat/Long: 경도, Confirmed: 확진, Deaths: 사망, Recovered:회복, Active: 확진 중인 사람(사망자/회복자 제외)"
      ]
    },
    {
      "cell_type": "code",
      "metadata": {
        "colab": {
          "base_uri": "https://localhost:8080/"
        },
        "id": "X2HGNl4tMFI-",
        "outputId": "8011997c-5b27-41b6-bcfa-d80e4bb62a65"
      },
      "source": [
        "doc.columns"
      ],
      "execution_count": null,
      "outputs": [
        {
          "output_type": "execute_result",
          "data": {
            "text/plain": [
              "Index(['FIPS', 'Admin2', 'Province_State', 'Country_Region', 'Last_Update',\n",
              "       'Lat', 'Long_', 'Confirmed', 'Deaths', 'Recovered', 'Active',\n",
              "       'Combined_Key'],\n",
              "      dtype='object')"
            ]
          },
          "metadata": {
            "tags": []
          },
          "execution_count": 8
        }
      ]
    },
    {
      "cell_type": "markdown",
      "metadata": {
        "id": "ZzmaCbdjNFRu"
      },
      "source": [
        "**2. 속성이 숫자라면, 평균, 표준편차, 4분위 수, 최소/최대값 확인하기**\r\n",
        "* describe(): 숫자 데이터의 기본 통계치를 한번에 확인할 수 있음"
      ]
    },
    {
      "cell_type": "code",
      "metadata": {
        "colab": {
          "base_uri": "https://localhost:8080/",
          "height": 304
        },
        "id": "HpaUPAWrM0TT",
        "outputId": "09d9d278-46d7-4cf1-de13-569f92441289"
      },
      "source": [
        "doc.describe()\r\n",
        "# count: 개수, mean: 평군, std: 표준편차, min: 최솟값, max: 최댓값\r\n",
        "# 25%/50%/75%: 4분위수로 전체 데이터 중, 25%/50%/75% 각각에 해당하는 수치가 몇 인지를 알려줌"
      ],
      "execution_count": null,
      "outputs": [
        {
          "output_type": "execute_result",
          "data": {
            "text/html": [
              "<div>\n",
              "<style scoped>\n",
              "    .dataframe tbody tr th:only-of-type {\n",
              "        vertical-align: middle;\n",
              "    }\n",
              "\n",
              "    .dataframe tbody tr th {\n",
              "        vertical-align: top;\n",
              "    }\n",
              "\n",
              "    .dataframe thead th {\n",
              "        text-align: right;\n",
              "    }\n",
              "</style>\n",
              "<table border=\"1\" class=\"dataframe\">\n",
              "  <thead>\n",
              "    <tr style=\"text-align: right;\">\n",
              "      <th></th>\n",
              "      <th>FIPS</th>\n",
              "      <th>Lat</th>\n",
              "      <th>Long_</th>\n",
              "      <th>Confirmed</th>\n",
              "      <th>Deaths</th>\n",
              "      <th>Recovered</th>\n",
              "      <th>Active</th>\n",
              "    </tr>\n",
              "  </thead>\n",
              "  <tbody>\n",
              "    <tr>\n",
              "      <th>count</th>\n",
              "      <td>2171.000000</td>\n",
              "      <td>2484.000000</td>\n",
              "      <td>2484.000000</td>\n",
              "      <td>2485.000000</td>\n",
              "      <td>2485.000000</td>\n",
              "      <td>2485.000000</td>\n",
              "      <td>2485.000000</td>\n",
              "    </tr>\n",
              "    <tr>\n",
              "      <th>mean</th>\n",
              "      <td>30017.933671</td>\n",
              "      <td>35.642200</td>\n",
              "      <td>-77.300066</td>\n",
              "      <td>375.209256</td>\n",
              "      <td>19.018913</td>\n",
              "      <td>77.837022</td>\n",
              "      <td>194.912274</td>\n",
              "    </tr>\n",
              "    <tr>\n",
              "      <th>std</th>\n",
              "      <td>15494.172170</td>\n",
              "      <td>11.408247</td>\n",
              "      <td>44.363279</td>\n",
              "      <td>4205.753624</td>\n",
              "      <td>353.176785</td>\n",
              "      <td>1506.072420</td>\n",
              "      <td>2797.133188</td>\n",
              "    </tr>\n",
              "    <tr>\n",
              "      <th>min</th>\n",
              "      <td>1001.000000</td>\n",
              "      <td>-42.882100</td>\n",
              "      <td>-172.104600</td>\n",
              "      <td>0.000000</td>\n",
              "      <td>0.000000</td>\n",
              "      <td>0.000000</td>\n",
              "      <td>0.000000</td>\n",
              "    </tr>\n",
              "    <tr>\n",
              "      <th>25%</th>\n",
              "      <td>18050.000000</td>\n",
              "      <td>33.204471</td>\n",
              "      <td>-94.778361</td>\n",
              "      <td>2.000000</td>\n",
              "      <td>0.000000</td>\n",
              "      <td>0.000000</td>\n",
              "      <td>0.000000</td>\n",
              "    </tr>\n",
              "    <tr>\n",
              "      <th>50%</th>\n",
              "      <td>29027.000000</td>\n",
              "      <td>37.565526</td>\n",
              "      <td>-86.181966</td>\n",
              "      <td>7.000000</td>\n",
              "      <td>0.000000</td>\n",
              "      <td>0.000000</td>\n",
              "      <td>0.000000</td>\n",
              "    </tr>\n",
              "    <tr>\n",
              "      <th>75%</th>\n",
              "      <td>45016.000000</td>\n",
              "      <td>41.420087</td>\n",
              "      <td>-79.419091</td>\n",
              "      <td>34.000000</td>\n",
              "      <td>1.000000</td>\n",
              "      <td>0.000000</td>\n",
              "      <td>0.000000</td>\n",
              "    </tr>\n",
              "    <tr>\n",
              "      <th>max</th>\n",
              "      <td>99999.000000</td>\n",
              "      <td>71.706900</td>\n",
              "      <td>178.065000</td>\n",
              "      <td>110574.000000</td>\n",
              "      <td>13155.000000</td>\n",
              "      <td>63326.000000</td>\n",
              "      <td>80572.000000</td>\n",
              "    </tr>\n",
              "  </tbody>\n",
              "</table>\n",
              "</div>"
            ],
            "text/plain": [
              "               FIPS          Lat  ...     Recovered        Active\n",
              "count   2171.000000  2484.000000  ...   2485.000000   2485.000000\n",
              "mean   30017.933671    35.642200  ...     77.837022    194.912274\n",
              "std    15494.172170    11.408247  ...   1506.072420   2797.133188\n",
              "min     1001.000000   -42.882100  ...      0.000000      0.000000\n",
              "25%    18050.000000    33.204471  ...      0.000000      0.000000\n",
              "50%    29027.000000    37.565526  ...      0.000000      0.000000\n",
              "75%    45016.000000    41.420087  ...      0.000000      0.000000\n",
              "max    99999.000000    71.706900  ...  63326.000000  80572.000000\n",
              "\n",
              "[8 rows x 7 columns]"
            ]
          },
          "metadata": {
            "tags": []
          },
          "execution_count": 9
        }
      ]
    },
    {
      "cell_type": "markdown",
      "metadata": {
        "id": "LZbhEMEbNpLP"
      },
      "source": [
        "**3. 속성간 상관관게 이해하기**\r\n",
        "* corr(method=상관계수): 각 속성간 상관 관계 확인하기(피어슨 상관계수가 디폴트임)\r\n",
        "* 피어슨 상관계수는 선형 상관 관계를 조사하며, 일반적으로\r\n",
        "  * +1에 가까우면, 양의 선형 상관관계(1에 가까울수록 선에 가까운 데이터가 많고, 한 변수값이 증가하면, 다른 변수값도 증가)\r\n",
        "  * 0에 가까우면 상관관계가 없고\r\n",
        "  * -1에 가까우면 음의 선형 상관 관계를 가진다(-1에 가까울수록 선에 가까운 데이터가 많고, 한 변수값이 증가하면, 다른 변수값을 감소)라고 해석됨"
      ]
    },
    {
      "cell_type": "code",
      "metadata": {
        "colab": {
          "base_uri": "https://localhost:8080/",
          "height": 254
        },
        "id": "ZeGCZVeRNQdS",
        "outputId": "4d505881-0ce5-4234-dfb0-f684e73fefb8"
      },
      "source": [
        "doc.corr()"
      ],
      "execution_count": null,
      "outputs": [
        {
          "output_type": "execute_result",
          "data": {
            "text/html": [
              "<div>\n",
              "<style scoped>\n",
              "    .dataframe tbody tr th:only-of-type {\n",
              "        vertical-align: middle;\n",
              "    }\n",
              "\n",
              "    .dataframe tbody tr th {\n",
              "        vertical-align: top;\n",
              "    }\n",
              "\n",
              "    .dataframe thead th {\n",
              "        text-align: right;\n",
              "    }\n",
              "</style>\n",
              "<table border=\"1\" class=\"dataframe\">\n",
              "  <thead>\n",
              "    <tr style=\"text-align: right;\">\n",
              "      <th></th>\n",
              "      <th>FIPS</th>\n",
              "      <th>Lat</th>\n",
              "      <th>Long_</th>\n",
              "      <th>Confirmed</th>\n",
              "      <th>Deaths</th>\n",
              "      <th>Recovered</th>\n",
              "      <th>Active</th>\n",
              "    </tr>\n",
              "  </thead>\n",
              "  <tbody>\n",
              "    <tr>\n",
              "      <th>FIPS</th>\n",
              "      <td>1.000000</td>\n",
              "      <td>0.144217</td>\n",
              "      <td>0.139813</td>\n",
              "      <td>0.003232</td>\n",
              "      <td>0.002047</td>\n",
              "      <td>NaN</td>\n",
              "      <td>NaN</td>\n",
              "    </tr>\n",
              "    <tr>\n",
              "      <th>Lat</th>\n",
              "      <td>0.144217</td>\n",
              "      <td>1.000000</td>\n",
              "      <td>-0.480747</td>\n",
              "      <td>0.028055</td>\n",
              "      <td>0.021846</td>\n",
              "      <td>-0.004605</td>\n",
              "      <td>0.029172</td>\n",
              "    </tr>\n",
              "    <tr>\n",
              "      <th>Long_</th>\n",
              "      <td>0.139813</td>\n",
              "      <td>-0.480747</td>\n",
              "      <td>1.000000</td>\n",
              "      <td>0.157120</td>\n",
              "      <td>0.104125</td>\n",
              "      <td>0.156061</td>\n",
              "      <td>0.143668</td>\n",
              "    </tr>\n",
              "    <tr>\n",
              "      <th>Confirmed</th>\n",
              "      <td>0.003232</td>\n",
              "      <td>0.028055</td>\n",
              "      <td>0.157120</td>\n",
              "      <td>1.000000</td>\n",
              "      <td>0.887693</td>\n",
              "      <td>0.727469</td>\n",
              "      <td>0.913021</td>\n",
              "    </tr>\n",
              "    <tr>\n",
              "      <th>Deaths</th>\n",
              "      <td>0.002047</td>\n",
              "      <td>0.021846</td>\n",
              "      <td>0.104125</td>\n",
              "      <td>0.887693</td>\n",
              "      <td>1.000000</td>\n",
              "      <td>0.568004</td>\n",
              "      <td>0.882460</td>\n",
              "    </tr>\n",
              "    <tr>\n",
              "      <th>Recovered</th>\n",
              "      <td>NaN</td>\n",
              "      <td>-0.004605</td>\n",
              "      <td>0.156061</td>\n",
              "      <td>0.727469</td>\n",
              "      <td>0.568004</td>\n",
              "      <td>1.000000</td>\n",
              "      <td>0.493270</td>\n",
              "    </tr>\n",
              "    <tr>\n",
              "      <th>Active</th>\n",
              "      <td>NaN</td>\n",
              "      <td>0.029172</td>\n",
              "      <td>0.143668</td>\n",
              "      <td>0.913021</td>\n",
              "      <td>0.882460</td>\n",
              "      <td>0.493270</td>\n",
              "      <td>1.000000</td>\n",
              "    </tr>\n",
              "  </tbody>\n",
              "</table>\n",
              "</div>"
            ],
            "text/plain": [
              "               FIPS       Lat     Long_  ...    Deaths  Recovered    Active\n",
              "FIPS       1.000000  0.144217  0.139813  ...  0.002047        NaN       NaN\n",
              "Lat        0.144217  1.000000 -0.480747  ...  0.021846  -0.004605  0.029172\n",
              "Long_      0.139813 -0.480747  1.000000  ...  0.104125   0.156061  0.143668\n",
              "Confirmed  0.003232  0.028055  0.157120  ...  0.887693   0.727469  0.913021\n",
              "Deaths     0.002047  0.021846  0.104125  ...  1.000000   0.568004  0.882460\n",
              "Recovered       NaN -0.004605  0.156061  ...  0.568004   1.000000  0.493270\n",
              "Active          NaN  0.029172  0.143668  ...  0.882460   0.493270  1.000000\n",
              "\n",
              "[7 rows x 7 columns]"
            ]
          },
          "metadata": {
            "tags": []
          },
          "execution_count": 10
        }
      ]
    },
    {
      "cell_type": "markdown",
      "metadata": {
        "id": "byyeFrTNO62U"
      },
      "source": [
        "**참고: 데이터 시각화를 통한 데이터 이해**\r\n",
        "* 데이터를 보다 깊게 이해하기 위해, 데이터를 시각화할 수 있음\r\n",
        "* 방대한 데이터를 숫자로 보는 것보다, 눈으로 보면 보다 명확히 이해할 수 있음\r\n",
        "* 다양한 데이터 시각화 라이브러리가 존재하므로, 이 중에서 데이터 탐색의 상관관계 분석을 위해, 바로 사용할 수 있는 라이브러리를 이해하기로 함"
      ]
    },
    {
      "cell_type": "markdown",
      "metadata": {
        "id": "SEMHzWm7PKWa"
      },
      "source": [
        "**이전 데이터 시각화 라이브러리(참고로만 이해)**\r\n",
        "* matplotlib: 파이썬에서 가장 기본적으로 사용하는 자료를 그래프로 보여주는 시각화 라이브러리\r\n",
        "  * 가장 좋기 때문에, 많이 사용된 것이 아니라, 이전부터 사용해왔기 때문에 사용된다고 하는 편이 맞음\r\n",
        "* seaborn: matplotlib을 기반으로 다양한 통계 차트 및 색상 테마를 추가한 라이브러리\r\n",
        "  * matplotlib 라이브러리로만은 이쁘지 않았고, 다양한 차트에 대한 요구가 많아서 \r\n",
        "\r\n",
        "*   항목 추가\r\n",
        "*   항목 추가\r\n",
        "\r\n",
        "개발된 라이브러리"
      ]
    },
    {
      "cell_type": "markdown",
      "metadata": {
        "id": "vqsFm0a6Pf9h"
      },
      "source": [
        "**최신 시각화 라이브러리: plotly**\r\n",
        "* pandas 기능과  plotly를 조합해서 최신/가장 빠르게 시각화 가능\r\n",
        "* pandas 데이터프레임.iplot() 같은 형태로 데이터프레임을 바로 그래프로 그릴 수 있음\r\n",
        "* https://plotly.com/python/\r\n",
        "  > 본 전처리에서는 이전 데이터 시각화 라이브러리를 간략히 시각화가 분석에 유용하다는 점만 알려드리고, 이전 시각화 라이브러리에 대해 가볍게만 이해할 수 있도록 꾸몄습니다. 데이터 분석에서 시각화를 본격적으로 이해할 시에는 최신 시각화 라이브러리를 사용합니다."
      ]
    },
    {
      "cell_type": "markdown",
      "metadata": {
        "id": "4JT9QyZXQHoV"
      },
      "source": [
        "보통 다음과 같이 import하고 as로 변경된 이름을 사용함"
      ]
    },
    {
      "cell_type": "code",
      "metadata": {
        "id": "pgWtqxOlONL7"
      },
      "source": [
        "import matplotlib.pyplot as plt\r\n",
        "import seaborn as sns"
      ],
      "execution_count": null,
      "outputs": []
    },
    {
      "cell_type": "markdown",
      "metadata": {
        "id": "fFx-S3ZMQVc0"
      },
      "source": [
        "그래프를 표현하기 위해 특별한 명령을 해주어야 함"
      ]
    },
    {
      "cell_type": "code",
      "metadata": {
        "id": "qfrnHdghQTWa"
      },
      "source": [
        "%matplotlib inline"
      ],
      "execution_count": null,
      "outputs": []
    },
    {
      "cell_type": "markdown",
      "metadata": {
        "id": "_mZZd82yQY5T"
      },
      "source": [
        "화면에 표시될 그래프 사이즈 조정"
      ]
    },
    {
      "cell_type": "code",
      "metadata": {
        "colab": {
          "base_uri": "https://localhost:8080/",
          "height": 52
        },
        "id": "T9iJELIzX-Od",
        "outputId": "ed1e13de-b92e-4c65-8058-834b5bb45d7d"
      },
      "source": [
        "plt.figure(figsize=(5,5))"
      ],
      "execution_count": null,
      "outputs": [
        {
          "output_type": "execute_result",
          "data": {
            "text/plain": [
              "<Figure size 360x360 with 0 Axes>"
            ]
          },
          "metadata": {
            "tags": []
          },
          "execution_count": 13
        },
        {
          "output_type": "display_data",
          "data": {
            "text/plain": [
              "<Figure size 360x360 with 0 Axes>"
            ]
          },
          "metadata": {
            "tags": []
          }
        }
      ]
    },
    {
      "cell_type": "markdown",
      "metadata": {
        "id": "62yFKtZoYDWA"
      },
      "source": [
        "**화면에 표시될 그래프 사이즈 조정**\r\n",
        "``` \r\n",
        "sns.heatmap(data = doc.corr(), annot=True, fmt='.2f',linewidths=0.5,cmap='Blues')\r\n",
        "```\r\n",
        "\r\n",
        "* data=테이블형: 데이터셋(데이터프레임)\r\n",
        "* annot=True: 박스 안에 값 표시\r\n",
        "* fmt='0.2f': 박스 안에 표시될 값의 표시 형식 설정(0.2f는 소숫점 두자릿수를 의미)\r\n",
        "* linewidths=0.5: 박스와 박스 사이의 간격\r\n",
        "* cmap='Blues': 색상 선택(https://matplotlib.org/3.1.0/tutorials/colors/colormaps.html)"
      ]
    },
    {
      "cell_type": "code",
      "metadata": {
        "colab": {
          "base_uri": "https://localhost:8080/",
          "height": 384
        },
        "id": "Yerugm5NYCIj",
        "outputId": "1c4800a3-b467-47db-911f-d707426f613b"
      },
      "source": [
        "import matplotlib.pyplot as plt\r\n",
        "import seaborn as sns\r\n",
        "\r\n",
        "plt.figure(figsize=(5,5))\r\n",
        "sns.heatmap(data=doc.corr(),annot=True, fmt='.2f',linewidths=0.5, cmap='Blues')"
      ],
      "execution_count": null,
      "outputs": [
        {
          "output_type": "execute_result",
          "data": {
            "text/plain": [
              "<matplotlib.axes._subplots.AxesSubplot at 0x7fd587304898>"
            ]
          },
          "metadata": {
            "tags": []
          },
          "execution_count": 14
        },
        {
          "output_type": "display_data",
          "data": {
            "image/png": "[encoded data removed]",
            "text/plain": [
              "<Figure size 360x360 with 2 Axes>"
            ]
          },
          "metadata": {
            "tags": [],
            "needs_background": "light"
          }
        }
      ]
    }
  ]
}