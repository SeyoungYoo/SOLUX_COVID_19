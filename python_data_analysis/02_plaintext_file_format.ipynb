{
  "nbformat": 4,
  "nbformat_minor": 0,
  "metadata": {
    "colab": {
      "name": "02_plaintext_file_format.ipynb",
      "provenance": [],
      "authorship_tag": "ABX9TyNlbuvxeySatG0+7jLuedjR",
      "include_colab_link": true
    },
    "kernelspec": {
      "name": "python3",
      "display_name": "Python 3"
    }
  },
  "cells": [
    {
      "cell_type": "markdown",
      "metadata": {
        "id": "view-in-github",
        "colab_type": "text"
      },
      "source": [
        "<a href=\"https://colab.research.google.com/github/yooste/SOLUX_COVID_19/blob/main/python_data_analysis/02_plaintext_file_format.ipynb\" target=\"_parent\"><img src=\"https://colab.research.google.com/assets/colab-badge.svg\" alt=\"Open In Colab\"/></a>"
      ]
    },
    {
      "cell_type": "markdown",
      "metadata": {
        "id": "S2ebqgYvhcpS"
      },
      "source": [
        "**데이터 전처리부터 시각화 및 분석**\n",
        "*    브라질 Olist 이커머스 사이트 구매 데이터 분석\n",
        "  *    얼마나 많은 고객이 있는가?\n",
        "  *    고객은 어디에 주로 사는가?\n",
        "  *    고객은 주로 어떤 지불방법을 사용하는가?\n",
        "  *    평균 거래액은 얼마일까?\n",
        "  *    일별, 주별, 월별 판매 트렌드는?\n",
        "  *    어떤 카테고리의 상품이 가장 많이 팔렸을까?"
      ]
    },
    {
      "cell_type": "markdown",
      "metadata": {
        "id": "rTv0nI53hyhu"
      },
      "source": [
        "**1.1 파일 오픈(Plain Text)**\n",
        "*    프로그래밍에서 파일은 다음과 같은 3가지 명령의 순서로 처리할 수 있음\n",
        "  *    파일오픈\n",
        "  *    파일 읽기 또는 쓰기\n",
        "  *    파일 닫기\n",
        "\n",
        "*    파일디스크립터변수 = open(파일이름, 파일열기모드)\n",
        "\n",
        " ```\n",
        "data_file = open('00_data/text_data.txt', 'r',encoding='utf-8-sig')\n",
        "    ```\n",
        "*    파일 디스크립터(file descriptor) 변수: 오픈한 파일 객체를 가리키고 있는 변수\n",
        "*    파일 이름 명시시, open 함수 실행 위치와 파일 이름이 저장된 위치를 파일 절대 경로 또는 상대 경로로 정확히 명시해야 함\n",
        "*    파일 열기 모드\n",
        "  *    r - 읽기모드: 파일을 읽기만 할 때 사용\n",
        "  *    w - 쓰기모드: 파일에 데이터를 쓸 때 사용함(기존 파일 데이터는 삭제됨)\n",
        "  *    a - 추가모드: 파일의 기존 데이터 끝에서부터 데이터를 추가할 때 사용함\n",
        "*    encoding\n",
        "  *    open(파일이름, 파일열기모드, encoding='utf-8-sig')와 같이 끝에 encoding 구문 추가 가능(옵션)\n",
        "  *    파일 오픈 시, 해당 파일의 인코딩 방식을 명시해주는 것임\n",
        "\n",
        "\n",
        "\n",
        "\n"
      ]
    },
    {
      "cell_type": "code",
      "metadata": {
        "id": "p5KJqhK4gO3Z"
      },
      "source": [
        "data_file = open('00_data/text_data.txt','r',encoding='utf-8-sig')"
      ],
      "execution_count": null,
      "outputs": []
    },
    {
      "cell_type": "markdown",
      "metadata": {
        "id": "mGKgIFEWpD95"
      },
      "source": [
        "**연습문제**\n",
        "1. 다음상황에서 파일 절대 경로와 상대 경로 작성하기\n",
        "  *    현재폴더: /Users/davelee/code\n",
        "  *    파일위치: /Users/\n",
        "  *    파일명: testfile.txt\n",
        "\n",
        "2. 다음 상황에서 파일 절대 경로와 상대 경로 작성하기\n",
        "  *    현재폴더: /Users/davelee/code\n",
        "  *    파일위치: /Users/davelee/code/program/data\n",
        "  *    파일명: testfile.txt"
      ]
    },
    {
      "cell_type": "markdown",
      "metadata": {
        "id": "CQkyvLEvppDW"
      },
      "source": [
        "**답**\n",
        "\n",
        "1. 절대 경로: /Users/testfile.txt\n",
        "  \n",
        "  상대 경로: ../../testfile.txt\n",
        "\n",
        "2. 절대 경로: /Users/davelee/code/program/data/testfile.txt\n",
        "\n",
        "  상대 경로: program/data/testfile.txt"
      ]
    },
    {
      "cell_type": "markdown",
      "metadata": {
        "id": "gBpzhXf4qoja"
      },
      "source": [
        "**1.2 파일 닫기(Plain Text)**\n",
        "  \n",
        "  *    파일디스크립터변수 .close() 함수로 파일을 닫을 수 있음\n",
        "  *    항상 오픈한 파일은 닫아야 함(파일을 오픈한 채로 놔두면, 컴퓨터에서 관련 자원이 계속 사용중인 상태가 될 수 있음)"
      ]
    },
    {
      "cell_type": "code",
      "metadata": {
        "id": "T-ALuTSMq87y"
      },
      "source": [
        "data_file = open('00_data/text_data.txt','r',encoding='utf-8-sig')\n",
        "data_file.close()"
      ],
      "execution_count": null,
      "outputs": []
    },
    {
      "cell_type": "markdown",
      "metadata": {
        "id": "JZgOtM4VrGKT"
      },
      "source": [
        "*    자동으로 파일을 닫기 위해 with 구문을 사용할 수 있음\n",
        "  *    with open() 명령 as 파일디스크립터:\n",
        "  *    with 구문 안에서 동작할 코드를 탭으로 들여쓰기 해서 사용하면, with 구문이 모두 끝난 후, 자동으로 해당 파일을 닫아줌"
      ]
    },
    {
      "cell_type": "code",
      "metadata": {
        "colab": {
          "base_uri": "https://localhost:8080/"
        },
        "id": "XC8OWvk1rFjG",
        "outputId": "1a4521ee-dfef-47f3-f123-40821a914d78"
      },
      "source": [
        "with open('00_data/text_data.txt','r',encoding='utf-8-sig') as file_desc:\n",
        "  print('test')"
      ],
      "execution_count": null,
      "outputs": [
        {
          "output_type": "stream",
          "text": [
            "test\n"
          ],
          "name": "stdout"
        }
      ]
    },
    {
      "cell_type": "markdown",
      "metadata": {
        "id": "NISNICt-rgTv"
      },
      "source": [
        "**1.3 파일 읽기**\n",
        "\n",
        "readlines() 함수 사용하기\n",
        "  *    오픈한 파일 디스크립터.readlines() 함수를 호출해서, 전체 데이터를 한줄씩 리스트타입으로 읽어올 수 있음"
      ]
    },
    {
      "cell_type": "code",
      "metadata": {
        "colab": {
          "base_uri": "https://localhost:8080/"
        },
        "id": "LJviWGewrdM6",
        "outputId": "51bf8cc4-9ef2-401c-c7bf-5ab502e79eec"
      },
      "source": [
        "data_file = open('00_data/text_data.txt','r',encoding='utf-8-sig')\n",
        "data_lines = data_file.readlines()\n",
        "data_lines"
      ],
      "execution_count": null,
      "outputs": [
        {
          "output_type": "execute_result",
          "data": {
            "text/plain": [
              "['안녕하세요. Dave Lee 입니다.\\n', '본 예제는 Plain Text 파일 예제입니다.\\n', '감사합니다.']"
            ]
          },
          "metadata": {
            "tags": []
          },
          "execution_count": 6
        }
      ]
    },
    {
      "cell_type": "markdown",
      "metadata": {
        "id": "E3mwZ6L5sQT2"
      },
      "source": [
        "*    리스트 타입 변수는 항상 for 구문을 사용해서, 각 아이템을 가져오기"
      ]
    },
    {
      "cell_type": "code",
      "metadata": {
        "colab": {
          "base_uri": "https://localhost:8080/"
        },
        "id": "PVZJjoW8sPJV",
        "outputId": "f003086e-9cd5-414e-e33d-6fcc19ce69f2"
      },
      "source": [
        "for data_line in data_lines:\n",
        "  print(data_line)\n",
        "data_file.close()"
      ],
      "execution_count": null,
      "outputs": [
        {
          "output_type": "stream",
          "text": [
            "안녕하세요. Dave Lee 입니다.\n",
            "\n",
            "본 예제는 Plain Text 파일 예제입니다.\n",
            "\n",
            "감사합니다.\n"
          ],
          "name": "stdout"
        }
      ]
    },
    {
      "cell_type": "markdown",
      "metadata": {
        "id": "3MN9xtCPsmrh"
      },
      "source": [
        "**readline() 함수 사용하기**\n",
        "*    오픈한 파일 디스크립터.readline() 함수를 호출해서, 현재까지 읽은 파일 데이터의 다음 한 줄을 문자열 타입으로 읽을 수 있음"
      ]
    },
    {
      "cell_type": "code",
      "metadata": {
        "colab": {
          "base_uri": "https://localhost:8080/"
        },
        "id": "33Wy2IGAsZxz",
        "outputId": "a1ce1fcc-a5dd-44a0-e373-083f29e03c57"
      },
      "source": [
        "data_file = open('00_data/text_data.txt','r',encoding='utf-8-sig')\n",
        "data_line = data_file.readline()\n",
        "print(data_line)"
      ],
      "execution_count": null,
      "outputs": [
        {
          "output_type": "stream",
          "text": [
            "안녕하세요. Dave Lee 입니다.\n",
            "\n"
          ],
          "name": "stdout"
        }
      ]
    },
    {
      "cell_type": "code",
      "metadata": {
        "colab": {
          "base_uri": "https://localhost:8080/"
        },
        "id": "8tVQq4Dcs7Dt",
        "outputId": "2e0c55ff-838a-4219-f961-ac8f089297a6"
      },
      "source": [
        "data_line = data_file.readline()\n",
        "print(data_line)"
      ],
      "execution_count": null,
      "outputs": [
        {
          "output_type": "stream",
          "text": [
            "본 예제는 Plain Text 파일 예제입니다.\n",
            "\n"
          ],
          "name": "stdout"
        }
      ]
    },
    {
      "cell_type": "code",
      "metadata": {
        "colab": {
          "base_uri": "https://localhost:8080/"
        },
        "id": "t2SZn8sftDLU",
        "outputId": "151f7eda-5484-4e10-ee0c-53884cdc0998"
      },
      "source": [
        "data_line = data_file.readline()\n",
        "print(data_line)"
      ],
      "execution_count": null,
      "outputs": [
        {
          "output_type": "stream",
          "text": [
            "감사합니다.\n"
          ],
          "name": "stdout"
        }
      ]
    },
    {
      "cell_type": "code",
      "metadata": {
        "id": "6lcmWLKFtDxd"
      },
      "source": [
        "data_file.close()"
      ],
      "execution_count": null,
      "outputs": []
    },
    {
      "cell_type": "markdown",
      "metadata": {
        "id": "g9wG6N8mtGk2"
      },
      "source": [
        "**read() 함수 사용하기**\n",
        "*    오픈한 파일 디스크립터.read() 함수를 호출해서, 전체 파일 데이터를 문자열 타입으로 읽을 수 있음"
      ]
    },
    {
      "cell_type": "code",
      "metadata": {
        "colab": {
          "base_uri": "https://localhost:8080/",
          "height": 35
        },
        "id": "mzSIvRfVtFPR",
        "outputId": "554c4077-c353-47d0-917d-cf104b0db732"
      },
      "source": [
        "data_file = open('00_data/text_data.txt','r',encoding='utf-8-sig')\n",
        "data = data_file.read()\n",
        "data"
      ],
      "execution_count": null,
      "outputs": [
        {
          "output_type": "execute_result",
          "data": {
            "application/vnd.google.colaboratory.intrinsic+json": {
              "type": "string"
            },
            "text/plain": [
              "'안녕하세요. Dave Lee 입니다.\\n본 예제는 Plain Text 파일 예제입니다.\\n감사합니다.'"
            ]
          },
          "metadata": {
            "tags": []
          },
          "execution_count": 12
        }
      ]
    },
    {
      "cell_type": "code",
      "metadata": {
        "id": "1Xu_6C_WtWy-"
      },
      "source": [
        "data_file.close()"
      ],
      "execution_count": null,
      "outputs": []
    },
    {
      "cell_type": "markdown",
      "metadata": {
        "id": "rFfMKTDetaXV"
      },
      "source": [
        "**1.4 파일 쓰기**\n",
        "\n",
        "write() 함수 사용하기\n",
        "*    open() 함수에 파일열기모드를 'w'로 해서, 파일쓰기"
      ]
    },
    {
      "cell_type": "markdown",
      "metadata": {
        "id": "ROVb0h7jtltx"
      },
      "source": [
        "**예제1: 파일 써보기**"
      ]
    },
    {
      "cell_type": "code",
      "metadata": {
        "id": "_bcvoO7dtZh9"
      },
      "source": [
        "data_file = open('00_data/text_data_write.txt','w', encoding='utf-8-sig')\n",
        "data_file.write('안녕하세요')\n",
        "data_file.write('Seyoung Yoo 입니다.')\n",
        "data_file.close()"
      ],
      "execution_count": null,
      "outputs": []
    },
    {
      "cell_type": "markdown",
      "metadata": {
        "id": "KX_nKt2wt-E-"
      },
      "source": [
        "**예제2: 라인을 바꾸려면?**"
      ]
    },
    {
      "cell_type": "code",
      "metadata": {
        "id": "z6uCmsudt6l4"
      },
      "source": [
        "data_file = open('00_data/text_data_write.txt','w', encoding='utf-8-sig')\n",
        "data_file.write('안녕하세요\\n')\n",
        "data_file.write('Seyoung Yoo 입니다.\\n')\n",
        "data_file.close()"
      ],
      "execution_count": null,
      "outputs": []
    },
    {
      "cell_type": "markdown",
      "metadata": {
        "id": "P4uc-xtauigp"
      },
      "source": [
        "**1.5 기존 파일에 데이터 추가하기**\n",
        "\n",
        "*    open() 함수에 파일 열기모드를 'a'로 해서, 파일 쓰기"
      ]
    },
    {
      "cell_type": "code",
      "metadata": {
        "id": "ifz0RysougcY"
      },
      "source": [
        "data_file = open('00_data/text_data_write.txt','a', encoding='utf-8-sig')\n",
        "data_file.write('본 파일은 임시 파일입니다.')\n",
        "data_file.close()"
      ],
      "execution_count": null,
      "outputs": []
    },
    {
      "cell_type": "markdown",
      "metadata": {
        "id": "4lA9XYGeu86y"
      },
      "source": [
        "**연습문제**\n",
        "\n",
        "1. 00_data/text_data_practice.txt 파일을 만들고, 다음 내용 쓰기 (각 데이터 라인을 바꿔주도록 저장)\n",
        "\n",
        "  유치원A\n",
        "\n",
        "  초등학교B\n",
        "\n",
        "  중학교C\n",
        "\n",
        "  고등학교D\n",
        "\n",
        "2. 00_data/text_data_practice.txt 파일에 다음 내용 추가하기\n",
        "\n",
        "  대학교E\n",
        "\n",
        "3. 00_data/text_data_practice.txt 파일을 읽고, 다음과 같이 출력되는지 확인하기\n",
        "\n",
        "  유치원A\n",
        "\n",
        "  초등학교B\n",
        "\n",
        "  중학교C\n",
        "\n",
        "  고등학교D\n",
        "\n",
        "  대학교E"
      ]
    },
    {
      "cell_type": "code",
      "metadata": {
        "id": "K1wqrHB4uyzG"
      },
      "source": [
        "# 1번\n",
        "data_file = open('00_data/text_data_practice.txt','w',encoding='utf-8-sig')\n",
        "data_file.write('유치원A\\n')\n",
        "data_file.write('초등학교B\\n')\n",
        "data_file.write('중학교C\\n')\n",
        "data_file.write('고등학교D\\n')\n",
        "data_file.close()"
      ],
      "execution_count": null,
      "outputs": []
    },
    {
      "cell_type": "code",
      "metadata": {
        "id": "NWjwgZ6Wv1sE"
      },
      "source": [
        "# 2번\n",
        "data_file = open('00_data/text_data_practice.txt','a',encoding='utf-8-sig')\n",
        "data_file.write('대학교E')\n",
        "data_file.close()"
      ],
      "execution_count": null,
      "outputs": []
    },
    {
      "cell_type": "code",
      "metadata": {
        "colab": {
          "base_uri": "https://localhost:8080/"
        },
        "id": "uKRHZOvbwBol",
        "outputId": "aa01b6b4-605d-494b-8a6b-024f5c4d8809"
      },
      "source": [
        "# 3번\n",
        "data_file = open('00_data/text_data_practice.txt','r',encoding='utf-8-sig')\n",
        "data_lines = data_file.readlines()\n",
        "for data_line in data_lines:\n",
        "  print(data_line)\n",
        "data_file.close()"
      ],
      "execution_count": null,
      "outputs": [
        {
          "output_type": "stream",
          "text": [
            "유치원A\n",
            "\n",
            "초등학교B\n",
            "\n",
            "중학교C\n",
            "\n",
            "고등학교D\n",
            "\n",
            "대학교E\n"
          ],
          "name": "stdout"
        }
      ]
    }
  ]
}