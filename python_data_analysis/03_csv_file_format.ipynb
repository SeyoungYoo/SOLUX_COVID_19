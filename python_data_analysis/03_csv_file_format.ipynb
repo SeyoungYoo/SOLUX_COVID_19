{
  "nbformat": 4,
  "nbformat_minor": 0,
  "metadata": {
    "colab": {
      "name": "03_csv_file_format.ipynb",
      "provenance": [],
      "collapsed_sections": [],
      "authorship_tag": "ABX9TyMrZofVQOUjei7+wrUDAwAv",
      "include_colab_link": true
    },
    "kernelspec": {
      "name": "python3",
      "display_name": "Python 3"
    }
  },
  "cells": [
    {
      "cell_type": "markdown",
      "metadata": {
        "id": "view-in-github",
        "colab_type": "text"
      },
      "source": [
        "<a href=\"https://colab.research.google.com/github/yooste/SOLUX_COVID_19/blob/main/python_data_analysis/03_csv_file_format.ipynb\" target=\"_parent\"><img src=\"https://colab.research.google.com/assets/colab-badge.svg\" alt=\"Open In Colab\"/></a>"
      ]
    },
    {
      "cell_type": "markdown",
      "metadata": {
        "id": "o6zc7tH500cw"
      },
      "source": [
        "# **2. 다양한 데이터 포멧 이해하기: CSV**\n",
        "\n",
        "*   주요 데이터 포멧\n",
        "  *   csv, xml, json\n",
        "  *   참고: https://www.data.go.kr/\n",
        "\n",
        "**2.1 파일 읽기(Plain Text)**\n",
        "*   파일디스크립터변수 = open(파일이름, 파일열기모드)\n",
        "  ``` \n",
        "  data_file = open('00_data/USvideo.csv','r',encoding='utf-8-sig')\n",
        "  ```\n",
        "*   파일디스크립터 (file descriptor) 변수: 오픈한 파일 객체를 가리키고 있는 변수\n",
        "*   파일 이름 명시시, open 함수 실행 위치의 파일 이름이 저장된 위치를 파일 절대 경로 또는 상대 경로로 정확히 명시해야 함\n",
        "*   파일 열기 모드(r/w/a)\n",
        "*   encoding\n",
        "  *   open(파일이름, 파일열기모드, encoding='utf-8-sig')와 같이 끝에 encoding 구문 추가 가능(옵션)\n",
        "  *   파일 오픈 시, 해당 파일의 인코딩 방식을 명시해주는 것임\n",
        "\n",
        "**2.2 csv 파일 읽기**\n",
        "*   CSV(Comma-Seperated Values): 스프레드시트 데이터를 저장할 때 가장 널리 쓰이는 파일 형식\n",
        "*   엑셀 등 여러 응용프로그램에서도 지원\n",
        "*   CSV 형식(각 열은 콤마로 구분, 각 행은 줄바꿈 문자로 구분)\n",
        "\n",
        "  ```\n",
        "  dave, david\n",
        "  apple, 2\n",
        "  korea, japan, china\n",
        "  ```\n",
        "*   파이썬에서 CSV 파일로 저장/읽기 방법\n",
        "  *   csv 라이브러리 사용"
      ]
    },
    {
      "cell_type": "markdown",
      "metadata": {
        "id": "r-sUQQny2Xyg"
      },
      "source": [
        "**CSV 라이브러리**\n",
        "*   anaconda에 포함\n",
        "*   만약 다음 코드 실행시 No module 에러 메시지가 나오면, csv 라이브러리 설치 후, 재실행\n",
        "    ```\n",
        "    pip install csv \n",
        "    ```\n"
      ]
    },
    {
      "cell_type": "code",
      "metadata": {
        "id": "VndpNLtoyZj0"
      },
      "source": [
        "import csv"
      ],
      "execution_count": null,
      "outputs": []
    },
    {
      "cell_type": "markdown",
      "metadata": {
        "id": "WO4K1B6n29zl"
      },
      "source": [
        "**csv.reader(오픈한 파일 디스크립터, delimiter=',')**\n",
        "*   open 함수를 통해 오픈한 파일 디스크립터\n",
        "*   delimiter=데이터구분자: csv 파일 내에 데이터 구분자를 명시할 수 있음(옵션)\n",
        "  ```\n",
        "  data_file = open('00_data/USvideos.csv','r',encoding='utf-8-sig')\n",
        "  data_lines = csv.reader(data_file, delimiter=',')\n",
        "  ```"
      ]
    },
    {
      "cell_type": "markdown",
      "metadata": {
        "id": "eIpHCvnX3YGk"
      },
      "source": [
        "**데이터 읽기**\n",
        "*   각 라인별 데이터를 읽기 위해, for 문을 사용하면 됨\n",
        "  ```\n",
        "  data_lines = csv.reader(data_file, delimiter=',')\n",
        "  for data_line in data_lines:\n",
        "      print(data_line)\n",
        "  ```"
      ]
    },
    {
      "cell_type": "markdown",
      "metadata": {
        "id": "UbFAVqWd3o3t"
      },
      "source": [
        "**파일 닫기(close)**\n",
        "*   오픈한 파일은 반드시 닫아야 함, 닫지 않으면 파일이 오픈된 채로 남아있을 수 있음\n",
        "  ```\n",
        "  data_file = open('00_data/USvideos.csv','r',encoding='utf-8-sig')\n",
        "  data_lines = csv.reader(data_file, delimiter=',')\n",
        "  for data_line in data_lines:\n",
        "      print(data_line)\n",
        "  data_file.close()\n",
        "  ```"
      ]
    },
    {
      "cell_type": "markdown",
      "metadata": {
        "id": "QmApuHrp4C8g"
      },
      "source": [
        "**예(한줄만 출력해봄)**"
      ]
    },
    {
      "cell_type": "code",
      "metadata": {
        "colab": {
          "base_uri": "https://localhost:8080/"
        },
        "id": "u1I-_AuV3laF",
        "outputId": "87af26aa-2b57-46f9-995c-4a91799853cc"
      },
      "source": [
        "data_file = open('00_data/USvideos.csv','r',encoding='utf-8-sig')\n",
        "data_lines = csv.reader(data_file, delimiter=',') # csv.reader로 읽으면 list 형태로 반환해준다.\n",
        "for data_line in data_lines:\n",
        "  print(data_line)\n",
        "  break # 모든 라인을 출력하고자 한다면, break를 빼면 됨\n",
        "data_file.close()"
      ],
      "execution_count": null,
      "outputs": [
        {
          "output_type": "stream",
          "text": [
            "['video_id', 'title', 'channel_title', 'category_id', 'tags', 'views', 'likes', 'dislikes', 'comment_total', 'thumbnail_link', 'date']\n"
          ],
          "name": "stdout"
        }
      ]
    },
    {
      "cell_type": "markdown",
      "metadata": {
        "id": "1KR8PeIq4pvx"
      },
      "source": [
        "**csv 파일 읽기 다른 기법**\n",
        "*  with 문법을 사용해서, 파일 데이터를 읽은 후, with 내부 구문 실행 완료 후, 자동으로 파일을 닫을 수 있음"
      ]
    },
    {
      "cell_type": "code",
      "metadata": {
        "colab": {
          "base_uri": "https://localhost:8080/"
        },
        "id": "zszC16cS4nYR",
        "outputId": "61b030c9-16a4-40d1-e27d-fa5bec179a00"
      },
      "source": [
        "import csv\n",
        "with open('00_data/USvideos.csv','r',encoding='utf-8-sig') as reader_csv:\n",
        "  reader = csv.reader(reader_csv, delimiter=',')\n",
        "\n",
        "  for row in reader:\n",
        "    print(row)\n",
        "    break"
      ],
      "execution_count": null,
      "outputs": [
        {
          "output_type": "stream",
          "text": [
            "['video_id', 'title', 'channel_title', 'category_id', 'tags', 'views', 'likes', 'dislikes', 'comment_total', 'thumbnail_link', 'date']\n"
          ],
          "name": "stdout"
        }
      ]
    },
    {
      "cell_type": "markdown",
      "metadata": {
        "id": "KQZaLvoH5fnp"
      },
      "source": [
        "**2.3 csv 파일 쓰기**\n",
        "*  open 시 'w'로 옵션을 설정\n",
        "  *   open() 함수에 newline=''를 넣어주는 이유는 윈도우의 경우에만 csv 모듈에서 데이터를 쓸 때 각 라인 뒤에 빈 라인이 추가되는 문제가 있기 때문\n",
        "  *   이를 없애기 위해 (파이썬3에서) 파일을 open 할 때 newline=''와 같은 옵션을 지정\n",
        "  ```\n",
        "  data_file = open('00_data/data.csv','w',encoding='utf-8-sig', newline='')\n",
        "  ```\n",
        "*   csv.reader 대신, csv.writer 함수 사용\n",
        "\n",
        "  ```\n",
        "  data_write = csv.writer(data_file, delimiter=',')\n",
        "  ```\n",
        "*   writerow 함수에 리스트 형식으로 데이터를 넣으면, 한 라인씩 파일에 추가 됨\n",
        "*   파일 close는 파일 읽기와 동일함"
      ]
    },
    {
      "cell_type": "code",
      "metadata": {
        "id": "VV_9nIGf5Max"
      },
      "source": [
        "import csv\n",
        "data_file = open('00_data/tmp_csv.csv','w',encoding='utf-8-sig', newline='')\n",
        "data_write = csv.writer(data_file, delimiter=',')\n",
        "data_write.writerow(['1','2','3'])\n",
        "data_file.close()"
      ],
      "execution_count": null,
      "outputs": []
    },
    {
      "cell_type": "markdown",
      "metadata": {
        "id": "Bo-k-2uc7F-S"
      },
      "source": [
        "**csv 파일 쓰기 다른 기법 (with)**\n",
        "*   with 문법을 사용해서, with 내부 구문 실행 완료 후, 자동으로 파일을 닫을 수 있음"
      ]
    },
    {
      "cell_type": "code",
      "metadata": {
        "id": "LMSOUeiW6vTQ"
      },
      "source": [
        "import csv\n",
        "with open('00_data/tmp_csv.csv','w',encoding='utf-8-sig',newline='') as writer_csv:\n",
        "  writer = csv.writer(writer_csv, delimiter=',')\n",
        "  writer.writerow(['love']*3+['banana'])    # ['love','love','love','banana'] 와 동일\n",
        "  writer.writerow(['apple',2])  # 문자열 외에도 다양한 타입 데이터 쓰기 가능\n",
        "  writer.writerow(['Spam','Lovely Spam','Wonderful Spam'])"
      ],
      "execution_count": null,
      "outputs": []
    },
    {
      "cell_type": "markdown",
      "metadata": {
        "id": "tmFgYI3s8WPL"
      },
      "source": [
        "**csv 파일 쓰기 다른 기법 (사전 타입으로 파일 쓰기)**\n",
        "*   csv.writer 함수 대신에, csv.DictWriter 함수 사용\n",
        "*   field 이름 선언 후, 데이터 넣기"
      ]
    },
    {
      "cell_type": "code",
      "metadata": {
        "id": "LSsPAqDY7sMy"
      },
      "source": [
        "import csv\n",
        "\n",
        "with open('00_data/tmp_csv.csv','w',encoding='utf-8-sig',newline='') as writer_csv:\n",
        "  field_name_list = ['First Name','Last Name']  # 필드명 정의\n",
        "  writer = csv.DictWriter(writer_csv, fieldnames = field_name_list) # 필드명을 미리 선언할 수 있음\n",
        "  writer.writeheader()  # 보통 csv 파일 상단에는 필드명을 넣기 때문에, 선언된 필드명을 writerheader() 함수로 넣을 수 있음\n",
        "  writer.writerow({'First Name':'Dave', 'Last Name':'Lee'})\n",
        "  writer.writerow({'First Name':'David', 'Last Name':'Kim'})\n",
        "  writer.writerow({'First Name':'Robin', 'Last Name':'Park'})"
      ],
      "execution_count": null,
      "outputs": []
    },
    {
      "cell_type": "markdown",
      "metadata": {
        "id": "dMNX8G8Y9p_9"
      },
      "source": [
        "*   사전 타입으로 읽기 가능"
      ]
    },
    {
      "cell_type": "code",
      "metadata": {
        "colab": {
          "base_uri": "https://localhost:8080/"
        },
        "id": "Wx0ypmxZ9gVu",
        "outputId": "96ac36bc-9028-4461-93e5-f909a8a3b495"
      },
      "source": [
        "import csv\n",
        "\n",
        "with open('00_data/tmp_csv.csv','r',encoding='utf-8-sig') as reader_csv:\n",
        "  reader = csv.DictReader(reader_csv)\n",
        "  for row in reader:\n",
        "    print(row['First Name'], row['Last Name'])"
      ],
      "execution_count": null,
      "outputs": [
        {
          "output_type": "stream",
          "text": [
            "Dave Lee\n",
            "David Kim\n",
            "Robin Park\n"
          ],
          "name": "stdout"
        }
      ]
    },
    {
      "cell_type": "markdown",
      "metadata": {
        "id": "MsGUJbdQ-TGs"
      },
      "source": [
        "**2.4 pandas 라이브러리로 csv 파일 읽기**\n",
        "*   csv 파일을 pandas.dataframe 으로 읽기 위해 read_csv()함수를 사용함\n",
        "*   csv 구분자는 quotechar=구분자 옵션을 넣어서 구분자가 다른 경우도 읽기 가능\n",
        "  ```\n",
        "  doc = pd.read_csv('USvideos.csv',encoding='utf-8-sig', quotechar=',')\n",
        "  ```\n",
        "*   에러 나는 데이터는 항상 있을 수 있음, 해당 데이터는 생략하는 것이 일반적임"
      ]
    }
  ]
}