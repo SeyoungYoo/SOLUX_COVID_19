{
  "nbformat": 4,
  "nbformat_minor": 0,
  "metadata": {
    "colab": {
      "name": "01_python_for_data_analysis.ipynb",
      "provenance": [],
      "authorship_tag": "ABX9TyOhivuozPFoVb8GJPu49PiW",
      "include_colab_link": true
    },
    "kernelspec": {
      "name": "python3",
      "display_name": "Python 3"
    }
  },
  "cells": [
    {
      "cell_type": "markdown",
      "metadata": {
        "id": "view-in-github",
        "colab_type": "text"
      },
      "source": [
        "<a href=\"https://colab.research.google.com/github/yooste/SOLUX_COVID_19/blob/main/python_data_analysis/01_python_for_data_analysis.ipynb\" target=\"_parent\"><img src=\"https://colab.research.google.com/assets/colab-badge.svg\" alt=\"Open In Colab\"/></a>"
      ]
    },
    {
      "cell_type": "markdown",
      "metadata": {
        "id": "4_G8cAIVoBS9"
      },
      "source": [
        "# **파이썬 기본**\n",
        "\n",
        "\n",
        "1.   데이터 타입과 변수 그리고 출력\n",
        "2.   문자열 다루기 기본과 리스트 데이터 구조\n",
        "3.   조건문\n",
        "4.   반복문\n",
        "5.   함수\n",
        "6.   다양한 데이터 구조: 튜플, 딕셔너리, 집합\n",
        "> 이외에 필요한 부분은 실제 프로그래밍을 하며 필요할 때 익힘\n",
        ">*   라이브러리들\n",
        ">*   객체와 클래스 문법은 알 필요 없음\n",
        "\n",
        "\n",
        "\n",
        "\n",
        "\n",
        "\n",
        "\n"
      ]
    },
    {
      "cell_type": "markdown",
      "metadata": {
        "id": "0zm3pfFyo9-_"
      },
      "source": [
        "# **파이썬 라이브러리**\n",
        "\n",
        "\n",
        "*   라이브러리: 미리 만들어놓은 함수 집합\n",
        "*   파이썬에서는 다양한 라이브러리가 있기 때문에, 적절한 라이브러리의 함수를 사용해서, 복잡한 기능을 빠르게 구현할 수 있음"
      ]
    },
    {
      "cell_type": "markdown",
      "metadata": {
        "id": "rI8QGdD6rNtz"
      },
      "source": [
        "1. 라이브러리 설치하기\n",
        "  *    라이브러리를 자신의 PC에서 사용하기 위해서는 해당 라이브러리를 설치해야 함"
      ]
    },
    {
      "cell_type": "code",
      "metadata": {
        "id": "UR_7aDiQpRx3"
      },
      "source": [
        "import pandas   # 라이브러리를 사용하기 위해서는 import 라이브러리명을 코드 상단에서 실행해야 함"
      ],
      "execution_count": null,
      "outputs": []
    },
    {
      "cell_type": "markdown",
      "metadata": {
        "id": "-Au2Xt1Gsoez"
      },
      "source": [
        "2. 라이브러리 사용하기"
      ]
    },
    {
      "cell_type": "markdown",
      "metadata": {
        "id": "VHjFc84DswAo"
      },
      "source": [
        "**라이브러리 사용하기 - 기본 사용법1**\n",
        "\n",
        "`import 라이브러리명`\n",
        "\n",
        "`라이브러리명.함수()`"
      ]
    },
    {
      "cell_type": "markdown",
      "metadata": {
        "id": "hZx3Yi5ztcX9"
      },
      "source": [
        "\n",
        "\n",
        "*   statistics 라이브러리: 통계 계산 기능을 제공\n",
        "*   statistics 라이브러리의  mean()함수: 평균값 계산\n",
        "*    사용법\n",
        "  *    해당 라이브러리에 있는 함수를 사용하기 위해서는 해당 라이브러리를 import한 후, 해당 라이브러리명.함수명으로 써야 함 \n",
        "\n",
        "      ```\n",
        "import statistics\n",
        "data = [1,2,3,4]\n",
        "statistics.mean(data)\n",
        "```\n",
        "\n",
        "\n",
        "\n"
      ]
    },
    {
      "cell_type": "code",
      "metadata": {
        "colab": {
          "base_uri": "https://localhost:8080/"
        },
        "id": "KMeeJb0ar78d",
        "outputId": "dd4b250c-d90c-47e2-da2c-face06841ef5"
      },
      "source": [
        "import statistics\n",
        "data = [1,2,3,4]\n",
        "statistics.mean(data)"
      ],
      "execution_count": null,
      "outputs": [
        {
          "output_type": "execute_result",
          "data": {
            "text/plain": [
              "2.5"
            ]
          },
          "metadata": {
            "tags": []
          },
          "execution_count": 2
        }
      ]
    },
    {
      "cell_type": "markdown",
      "metadata": {
        "id": "90MviWI5uGG8"
      },
      "source": [
        "**라이브러리 사용하기 - 기본 사용법2**\n",
        "\n",
        "\n",
        "*   라이브러리에서 일부 함수만 불러와서, 사용하기 위해서는 다음과 같이 from 라이브러리명 import 함수명으로 사용\n",
        "*   마치 해당 함수를 현재 코드 상단에 선언한 것과 마찬가지가 됨\n",
        "  *   라이브러리명.함수명 으로 쓰지 않고 함수명만 쓰면 됨\n",
        "\n"
      ]
    },
    {
      "cell_type": "code",
      "metadata": {
        "colab": {
          "base_uri": "https://localhost:8080/"
        },
        "id": "4fnOKztnuk3G",
        "outputId": "5a7b6062-00ac-4d6d-fd4c-8d0e740570dd"
      },
      "source": [
        "from statistics import mean\n",
        "mean(data)"
      ],
      "execution_count": null,
      "outputs": [
        {
          "output_type": "execute_result",
          "data": {
            "text/plain": [
              "2.5"
            ]
          },
          "metadata": {
            "tags": []
          },
          "execution_count": 5
        }
      ]
    },
    {
      "cell_type": "markdown",
      "metadata": {
        "id": "X_uHGLXsuqSN"
      },
      "source": [
        "*   다음과 같이 쓰면, 해당 라이브러리에 있는 모든 함수를 라이브러리명 없이 쓸 수 있음"
      ]
    },
    {
      "cell_type": "code",
      "metadata": {
        "colab": {
          "base_uri": "https://localhost:8080/"
        },
        "id": "diqDXH0htKpp",
        "outputId": "7ee7ebba-dc42-449e-8308-522eb0cf50da"
      },
      "source": [
        "from statistics import *\n",
        "print(mean(data))\n",
        "print(stdev(data))"
      ],
      "execution_count": null,
      "outputs": [
        {
          "output_type": "stream",
          "text": [
            "2.5\n",
            "1.2909944487358056\n"
          ],
          "name": "stdout"
        }
      ]
    },
    {
      "cell_type": "markdown",
      "metadata": {
        "id": "U5jR3luju4TU"
      },
      "source": [
        "**라이브러리 사용하기 - 기본 사용법3**\n",
        "\n",
        "\n",
        "*   매번 라이브러리명.함수 또는 해당 라이브러리의 함수명 조차 길어서, 줄이고 싶을 경우\n",
        "\n"
      ]
    },
    {
      "cell_type": "code",
      "metadata": {
        "colab": {
          "base_uri": "https://localhost:8080/"
        },
        "id": "wiZ-1XjTugtz",
        "outputId": "9456e238-8787-41de-dc7f-e938c0a81247"
      },
      "source": [
        "# 라이브러리명을 줄이고 싶을 때 (다른 이름으로 변경할 때)\n",
        "import statistics as s\n",
        "data = [1,2,3,4]\n",
        "s.mean(data)"
      ],
      "execution_count": null,
      "outputs": [
        {
          "output_type": "execute_result",
          "data": {
            "text/plain": [
              "2.5"
            ]
          },
          "metadata": {
            "tags": []
          },
          "execution_count": 2
        }
      ]
    },
    {
      "cell_type": "code",
      "metadata": {
        "colab": {
          "base_uri": "https://localhost:8080/"
        },
        "id": "2yAgwAoivI0A",
        "outputId": "95f3492f-0089-4340-bbb2-4eff5c6ef54e"
      },
      "source": [
        "# 라이브러리명을 줄이고 싶을 때 (다른 이름으로 변경할 때)\n",
        "from statistics import mean as m\n",
        "m(data)"
      ],
      "execution_count": null,
      "outputs": [
        {
          "output_type": "execute_result",
          "data": {
            "text/plain": [
              "2.5"
            ]
          },
          "metadata": {
            "tags": []
          },
          "execution_count": 3
        }
      ]
    }
  ]
}