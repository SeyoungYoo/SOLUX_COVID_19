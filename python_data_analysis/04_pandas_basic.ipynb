{
  "nbformat": 4,
  "nbformat_minor": 0,
  "metadata": {
    "colab": {
      "name": "04_pandas_basic.ipynb",
      "provenance": [],
      "authorship_tag": "ABX9TyNrrJefZxkRpv3UG3F3XkGo",
      "include_colab_link": true
    },
    "kernelspec": {
      "name": "python3",
      "display_name": "Python 3"
    }
  },
  "cells": [
    {
      "cell_type": "markdown",
      "metadata": {
        "id": "view-in-github",
        "colab_type": "text"
      },
      "source": [
        "<a href=\"https://colab.research.google.com/github/yooste/SOLUX_COVID_19/blob/main/python_data_analysis/04_pandas_basic.ipynb\" target=\"_parent\"><img src=\"https://colab.research.google.com/assets/colab-badge.svg\" alt=\"Open In Colab\"/></a>"
      ]
    },
    {
      "cell_type": "markdown",
      "metadata": {
        "id": "CjyIU4uThSRp"
      },
      "source": [
        "# pandas 라이브러리 다루기"
      ]
    },
    {
      "cell_type": "markdown",
      "metadata": {
        "id": "1Z2KVEF4hXDA"
      },
      "source": [
        "**1. pandas 라이브러리란?**\r\n",
        "\r\n",
        "\r\n",
        "*   테이블형 데이터를 다룰 수 있는 다양한 기능을 가진 라이브러리\r\n",
        "  *  파이썬 데이터 분석을 위해 기본적으로 사용하는 라이브러리임\r\n",
        "*   raw data를 데이터 분석 전과정을 위해 사용할 수 있도록 변환하는 데이터 전처리에도 많이 사용됨\r\n",
        "  * raw data: 아직 데이터 분석을 위해 정제되지 않은 기본 데이터를 의미\r\n",
        "      * 보통 데이터 분석 목적에 맞지 않은 불필요한 데이터가 있거나, 데이터가 없는 열들이 포함됨\r\n",
        "\r\n",
        "\r\n"
      ]
    },
    {
      "cell_type": "markdown",
      "metadata": {
        "id": "eHGFC7-KiAjY"
      },
      "source": [
        "**진행 방법**\r\n",
        "* pandas 라이브러리 기능이 너무 많고 다양한 기능이 있기 때문에, 문법만 익혀서는 와닿지가 않음\r\n",
        "* pandas 라이브러리의 기본적인 기능만 익힌 후,\r\n",
        "* 추가 문법은 가볍게 탐색적 데이터 분석(EDA) 개념을 익히고, 실제 예제를 통해 관련 문법을 익힘\r\n",
        "  * 데이터 분석 예제까지 계속 사용하여 반복적으로, 그리고 다양한 문법 이해 및 활용\r\n",
        "  * 전처리 예제는 전처리만 집중, 데이터 분석/시각화는 하지 않음\r\n",
        "  * 데이터 분석 예제는 전처리부터 데이터 분석/시각화\r\n",
        "\r\n",
        "    ```\r\n",
        "    전처리 예제와 데이터 분석 예제를 실습하고 나면, pandas와 최신 시각화 라이브러리를 바로 활용할 수 있도록!\r\n",
        "    ```\r\n",
        "\r\n",
        "\r\n"
      ]
    },
    {
      "cell_type": "markdown",
      "metadata": {
        "id": "2AAl_4OXj51j"
      },
      "source": [
        "**pandas 라이브러리 임포트**\r\n",
        "* 보통 pd로 많이 사용함"
      ]
    },
    {
      "cell_type": "code",
      "metadata": {
        "id": "7MEQDjgaj_RK"
      },
      "source": [
        "import pandas as pd # 라이브러리 임포트(보통 이와 같이 사용함, 이후에는 pd.팬더스함수 형태로 팬더스 라이브러리 함수를 호출함)"
      ],
      "execution_count": null,
      "outputs": []
    },
    {
      "cell_type": "markdown",
      "metadata": {
        "id": "abiDmY1KkG-m"
      },
      "source": [
        "**2. 시리즈(Series) 이해하기**\r\n",
        "* 데이터를 다루기 위해 데이터 프레임(Dataframe)과 시리즈(Series)제공\r\n",
        "* 시리즈(Series)는 1차원 데이터이고, 데이터프레임(Dataframe)이 테이블형(2차원) 데이터임"
      ]
    },
    {
      "cell_type": "markdown",
      "metadata": {
        "id": "yrR2vP-QkWER"
      },
      "source": [
        "**Series 생성(CRUD - Create)**"
      ]
    },
    {
      "cell_type": "code",
      "metadata": {
        "colab": {
          "base_uri": "https://localhost:8080/"
        },
        "id": "B-0bbZbJkZgw",
        "outputId": "7ba05d0e-6516-4fea-b9ba-f248b948ee65"
      },
      "source": [
        "seriesdata = pd.Series([70,60,90])\r\n",
        "seriesdata "
      ],
      "execution_count": null,
      "outputs": [
        {
          "output_type": "execute_result",
          "data": {
            "text/plain": [
              "0    70\n",
              "1    60\n",
              "2    90\n",
              "dtype: int64"
            ]
          },
          "metadata": {
            "tags": []
          },
          "execution_count": 2
        }
      ]
    },
    {
      "cell_type": "markdown",
      "metadata": {
        "id": "vencquxJl5mH"
      },
      "source": [
        "* index는 행의 레이블을 의미함\r\n",
        "* index를 지정하지 않으면 0부터 시작하는 인덱스 자동 생성\r\n",
        "* 지정할 경우에는 지정된 index로 사용"
      ]
    },
    {
      "cell_type": "code",
      "metadata": {
        "colab": {
          "base_uri": "https://localhost:8080/"
        },
        "id": "hx4cR4X3mFFH",
        "outputId": "9e7b34a3-a53a-446b-ce68-e7c814258994"
      },
      "source": [
        "seriesdata = pd.Series([70,60,90],index=['국어','영어','수학'])\r\n",
        "seriesdata"
      ],
      "execution_count": null,
      "outputs": [
        {
          "output_type": "execute_result",
          "data": {
            "text/plain": [
              "국어    70\n",
              "영어    60\n",
              "수학    90\n",
              "dtype: int64"
            ]
          },
          "metadata": {
            "tags": []
          },
          "execution_count": 3
        }
      ]
    },
    {
      "cell_type": "markdown",
      "metadata": {
        "id": "1Ti29DDqmZ27"
      },
      "source": [
        "**Series 데이터 읽고 수정하기(CRUD - Read & Update)**\r\n",
        "* Series 인덱스 수정"
      ]
    },
    {
      "cell_type": "code",
      "metadata": {
        "colab": {
          "base_uri": "https://localhost:8080/"
        },
        "id": "D4a7PSM6mldJ",
        "outputId": "f57a631e-c117-4ff5-de13-8f6a3cb7b868"
      },
      "source": [
        "seriesdata.index"
      ],
      "execution_count": null,
      "outputs": [
        {
          "output_type": "execute_result",
          "data": {
            "text/plain": [
              "Index(['국어', '영어', '수학'], dtype='object')"
            ]
          },
          "metadata": {
            "tags": []
          },
          "execution_count": 4
        }
      ]
    },
    {
      "cell_type": "code",
      "metadata": {
        "id": "WqqcT1bgmrIl"
      },
      "source": [
        "seriesdata.index = ['미술','음악','체육']"
      ],
      "execution_count": null,
      "outputs": []
    },
    {
      "cell_type": "code",
      "metadata": {
        "colab": {
          "base_uri": "https://localhost:8080/"
        },
        "id": "AoPgUOJXmycW",
        "outputId": "85073b34-52ea-4c40-bb8b-126725ebf5e3"
      },
      "source": [
        "seriesdata"
      ],
      "execution_count": null,
      "outputs": [
        {
          "output_type": "execute_result",
          "data": {
            "text/plain": [
              "미술    70\n",
              "음악    60\n",
              "체육    90\n",
              "dtype: int64"
            ]
          },
          "metadata": {
            "tags": []
          },
          "execution_count": 6
        }
      ]
    },
    {
      "cell_type": "code",
      "metadata": {
        "colab": {
          "base_uri": "https://localhost:8080/"
        },
        "id": "6c3rCWXQm7Vw",
        "outputId": "72aab53b-6aa1-440a-805f-dfc5bdec2a81"
      },
      "source": [
        "seriesdata.values # values = [] 형태로는 직접 수정이 안됨"
      ],
      "execution_count": null,
      "outputs": [
        {
          "output_type": "execute_result",
          "data": {
            "text/plain": [
              "array([70, 60, 90])"
            ]
          },
          "metadata": {
            "tags": []
          },
          "execution_count": 7
        }
      ]
    },
    {
      "cell_type": "markdown",
      "metadata": {
        "id": "F1vXqdVVnCpG"
      },
      "source": [
        "* 특정 데이터 수정 가능 (출력, 수정 등 데이터 처리 가능)"
      ]
    },
    {
      "cell_type": "code",
      "metadata": {
        "colab": {
          "base_uri": "https://localhost:8080/"
        },
        "id": "EDh4TJ_inHe3",
        "outputId": "ffae5fd8-7bba-4934-9659-514cbbbb4937"
      },
      "source": [
        "print(seriesdata['미술'],seriesdata[0])   # 인덱스 이름과 인덱스 번호로 특정 값을 가리킬 수 있음"
      ],
      "execution_count": null,
      "outputs": [
        {
          "output_type": "stream",
          "text": [
            "70 70\n"
          ],
          "name": "stdout"
        }
      ]
    },
    {
      "cell_type": "code",
      "metadata": {
        "colab": {
          "base_uri": "https://localhost:8080/"
        },
        "id": "TG7HQU9NnL4M",
        "outputId": "db29b065-2cd3-44ff-d990-4208f6b56560"
      },
      "source": [
        "seriesdata['미술'] = 80\r\n",
        "print(seriesdata['미술'],seriesdata[0])"
      ],
      "execution_count": null,
      "outputs": [
        {
          "output_type": "stream",
          "text": [
            "80 80\n"
          ],
          "name": "stdout"
        }
      ]
    },
    {
      "cell_type": "markdown",
      "metadata": {
        "id": "pIefApMOnevi"
      },
      "source": [
        "**Series 데이터 삭제하기 (CRUD - Delete)**"
      ]
    },
    {
      "cell_type": "code",
      "metadata": {
        "colab": {
          "base_uri": "https://localhost:8080/"
        },
        "id": "Mc9Zzl62njII",
        "outputId": "08b3da4a-2f3e-4736-e4f9-d648e7b31596"
      },
      "source": [
        "seriesdata"
      ],
      "execution_count": null,
      "outputs": [
        {
          "output_type": "execute_result",
          "data": {
            "text/plain": [
              "미술    80\n",
              "음악    60\n",
              "체육    90\n",
              "dtype: int64"
            ]
          },
          "metadata": {
            "tags": []
          },
          "execution_count": 10
        }
      ]
    },
    {
      "cell_type": "code",
      "metadata": {
        "id": "nUHczfZqnkQi"
      },
      "source": [
        "del seriesdata['미술']  # 지정한 인덱스에 해당하는 항목이 사라짐"
      ],
      "execution_count": null,
      "outputs": []
    },
    {
      "cell_type": "code",
      "metadata": {
        "colab": {
          "base_uri": "https://localhost:8080/"
        },
        "id": "UyPL18ywnml1",
        "outputId": "3b60392e-390e-49b7-cffd-1fb703fa9d19"
      },
      "source": [
        "seriesdata"
      ],
      "execution_count": null,
      "outputs": [
        {
          "output_type": "execute_result",
          "data": {
            "text/plain": [
              "음악    60\n",
              "체육    90\n",
              "dtype: int64"
            ]
          },
          "metadata": {
            "tags": []
          },
          "execution_count": 12
        }
      ]
    },
    {
      "cell_type": "markdown",
      "metadata": {
        "id": "p5wuv8OWnxzU"
      },
      "source": [
        "**3. pandas 데이터 타입**\r\n",
        "* pandas 데이터 타입은 파이썬과 다름\r\n",
        "  * dtype으로 불리우며, 주요 데이터 타입은 다음과 같음\r\n",
        "    * object: 파이썬의 str 또는 혼용 데이터 타입(문자열)\r\n",
        "    * int64: 파이썬의 int(정수)\r\n",
        "    * float64: 파이썬의 float(부동소수점)\r\n",
        "    * bool: 파이썬의 bool(True 또는 False 값을 가지는 boolean)\r\n",
        "    * 이외에 datetime64 (날짜/시간), timedelta[ns] (두 datetime64 간의 차)도 활용 됨\r\n",
        "    ``` \r\n",
        "    가끔 data type 때문에 에러가 나는 경우가 있으므로, 데이터 타입에 대한 이해 및 데이터 타입 변경 기능을 알아둬야 함\r\n",
        "    ```"
      ]
    },
    {
      "cell_type": "code",
      "metadata": {
        "colab": {
          "base_uri": "https://localhost:8080/"
        },
        "id": "z2DLtZ8xo412",
        "outputId": "5d469476-16ef-4a5e-ef39-f048dbeb4105"
      },
      "source": [
        "seriesdata = pd.Series(['dave','alex','amir'])\r\n",
        "seriesdata"
      ],
      "execution_count": null,
      "outputs": [
        {
          "output_type": "execute_result",
          "data": {
            "text/plain": [
              "0    dave\n",
              "1    alex\n",
              "2    amir\n",
              "dtype: object"
            ]
          },
          "metadata": {
            "tags": []
          },
          "execution_count": 13
        }
      ]
    },
    {
      "cell_type": "code",
      "metadata": {
        "colab": {
          "base_uri": "https://localhost:8080/"
        },
        "id": "i_BNjuSkpOpr",
        "outputId": "3363ce9d-66c6-40dc-90f9-c28765f49dc2"
      },
      "source": [
        "seriesdata = pd.Series([1,1,1])\r\n",
        "seriesdata"
      ],
      "execution_count": null,
      "outputs": [
        {
          "output_type": "execute_result",
          "data": {
            "text/plain": [
              "0    1\n",
              "1    1\n",
              "2    1\n",
              "dtype: int64"
            ]
          },
          "metadata": {
            "tags": []
          },
          "execution_count": 14
        }
      ]
    },
    {
      "cell_type": "markdown",
      "metadata": {
        "id": "v9NnQkigpTez"
      },
      "source": [
        "**데이터 타입 변경: Series.astype(변경할 타입)**"
      ]
    },
    {
      "cell_type": "code",
      "metadata": {
        "colab": {
          "base_uri": "https://localhost:8080/"
        },
        "id": "Dhqa-QHUpW5x",
        "outputId": "e646dda3-b578-44d6-afc7-1b2ed1e721b9"
      },
      "source": [
        "seriesdata.astype('float')"
      ],
      "execution_count": null,
      "outputs": [
        {
          "output_type": "execute_result",
          "data": {
            "text/plain": [
              "0    1.0\n",
              "1    1.0\n",
              "2    1.0\n",
              "dtype: float64"
            ]
          },
          "metadata": {
            "tags": []
          },
          "execution_count": 15
        }
      ]
    },
    {
      "cell_type": "code",
      "metadata": {
        "colab": {
          "base_uri": "https://localhost:8080/"
        },
        "id": "gQkINqIApi8-",
        "outputId": "44b3b5df-6c94-44fe-ce23-715b0a8abff9"
      },
      "source": [
        "seriesdata = pd.Series([1.1,1.1,1.2])\r\n",
        "seriesdata"
      ],
      "execution_count": null,
      "outputs": [
        {
          "output_type": "execute_result",
          "data": {
            "text/plain": [
              "0    1.1\n",
              "1    1.1\n",
              "2    1.2\n",
              "dtype: float64"
            ]
          },
          "metadata": {
            "tags": []
          },
          "execution_count": 16
        }
      ]
    },
    {
      "cell_type": "code",
      "metadata": {
        "colab": {
          "base_uri": "https://localhost:8080/"
        },
        "id": "6xMwz_zCpqgB",
        "outputId": "ef528e93-b672-4dc9-a048-3f6045a25e93"
      },
      "source": [
        "seriesdata = pd.Series([True, True, False])\r\n",
        "seriesdata"
      ],
      "execution_count": null,
      "outputs": [
        {
          "output_type": "execute_result",
          "data": {
            "text/plain": [
              "0     True\n",
              "1     True\n",
              "2    False\n",
              "dtype: bool"
            ]
          },
          "metadata": {
            "tags": []
          },
          "execution_count": 17
        }
      ]
    },
    {
      "cell_type": "markdown",
      "metadata": {
        "id": "FVsMi3PbqWlJ"
      },
      "source": [
        "**3. 데이터프레임(Dataframe) 이해하기**\r\n",
        "* 데이터프레임은 테이블형(2차원) 데이터이며, 데이터 분석/머신러닝에서 데이터 처리를 위해 주로 사용됨\r\n",
        "* 2차원이기 때문에 엑셀/csv와 같이 데이터가 row, column로 구성되며, 인덱스도 두 개, row/column 각각 존재함\r\n",
        "  * 행의 레이블은 인덱스로, 열의 레이블은 컬럼으로 부름"
      ]
    },
    {
      "cell_type": "code",
      "metadata": {
        "id": "cz3ScSimpvHa"
      },
      "source": [
        "import pandas as pd "
      ],
      "execution_count": null,
      "outputs": []
    },
    {
      "cell_type": "markdown",
      "metadata": {
        "id": "-kg5rHSmvSfP"
      },
      "source": [
        "**Dataframe 생성 (CRUD - Create)**"
      ]
    },
    {
      "cell_type": "code",
      "metadata": {
        "colab": {
          "base_uri": "https://localhost:8080/",
          "height": 136
        },
        "id": "c316thY6vWBw",
        "outputId": "7397cad6-fc7e-4d64-91a1-72bd78bd1cff"
      },
      "source": [
        "df = pd.DataFrame({\r\n",
        "    '미국':[2.1,2.2,2.3],\r\n",
        "    '한국':[0.4,0.5,0.45],\r\n",
        "    '중국':[10,13,15]\r\n",
        "})  # key : values\r\n",
        "df"
      ],
      "execution_count": null,
      "outputs": [
        {
          "output_type": "execute_result",
          "data": {
            "text/html": [
              "<div>\n",
              "<style scoped>\n",
              "    .dataframe tbody tr th:only-of-type {\n",
              "        vertical-align: middle;\n",
              "    }\n",
              "\n",
              "    .dataframe tbody tr th {\n",
              "        vertical-align: top;\n",
              "    }\n",
              "\n",
              "    .dataframe thead th {\n",
              "        text-align: right;\n",
              "    }\n",
              "</style>\n",
              "<table border=\"1\" class=\"dataframe\">\n",
              "  <thead>\n",
              "    <tr style=\"text-align: right;\">\n",
              "      <th></th>\n",
              "      <th>미국</th>\n",
              "      <th>한국</th>\n",
              "      <th>중국</th>\n",
              "    </tr>\n",
              "  </thead>\n",
              "  <tbody>\n",
              "    <tr>\n",
              "      <th>0</th>\n",
              "      <td>2.1</td>\n",
              "      <td>0.40</td>\n",
              "      <td>10</td>\n",
              "    </tr>\n",
              "    <tr>\n",
              "      <th>1</th>\n",
              "      <td>2.2</td>\n",
              "      <td>0.50</td>\n",
              "      <td>13</td>\n",
              "    </tr>\n",
              "    <tr>\n",
              "      <th>2</th>\n",
              "      <td>2.3</td>\n",
              "      <td>0.45</td>\n",
              "      <td>15</td>\n",
              "    </tr>\n",
              "  </tbody>\n",
              "</table>\n",
              "</div>"
            ],
            "text/plain": [
              "    미국    한국  중국\n",
              "0  2.1  0.40  10\n",
              "1  2.2  0.50  13\n",
              "2  2.3  0.45  15"
            ]
          },
          "metadata": {
            "tags": []
          },
          "execution_count": 19
        }
      ]
    },
    {
      "cell_type": "markdown",
      "metadata": {
        "id": "ClQHecNWvsds"
      },
      "source": [
        "**인덱스와 함께 생성하기 (CRUD - Create)**"
      ]
    },
    {
      "cell_type": "code",
      "metadata": {
        "colab": {
          "base_uri": "https://localhost:8080/",
          "height": 136
        },
        "id": "DNrQzY7x2ez0",
        "outputId": "0dd083df-0e9e-4a67-f34a-f16175b379c4"
      },
      "source": [
        "df = pd.DataFrame({\r\n",
        "    '미국':[2.1,2.2,2.3],\r\n",
        "    '한국':[0.4,0.5,0.45],\r\n",
        "    '중국':[10,13,15]},\r\n",
        "    index = [2000,2010,2020]\r\n",
        ")\r\n",
        "df"
      ],
      "execution_count": null,
      "outputs": [
        {
          "output_type": "execute_result",
          "data": {
            "text/html": [
              "<div>\n",
              "<style scoped>\n",
              "    .dataframe tbody tr th:only-of-type {\n",
              "        vertical-align: middle;\n",
              "    }\n",
              "\n",
              "    .dataframe tbody tr th {\n",
              "        vertical-align: top;\n",
              "    }\n",
              "\n",
              "    .dataframe thead th {\n",
              "        text-align: right;\n",
              "    }\n",
              "</style>\n",
              "<table border=\"1\" class=\"dataframe\">\n",
              "  <thead>\n",
              "    <tr style=\"text-align: right;\">\n",
              "      <th></th>\n",
              "      <th>미국</th>\n",
              "      <th>한국</th>\n",
              "      <th>중국</th>\n",
              "    </tr>\n",
              "  </thead>\n",
              "  <tbody>\n",
              "    <tr>\n",
              "      <th>2000</th>\n",
              "      <td>2.1</td>\n",
              "      <td>0.40</td>\n",
              "      <td>10</td>\n",
              "    </tr>\n",
              "    <tr>\n",
              "      <th>2010</th>\n",
              "      <td>2.2</td>\n",
              "      <td>0.50</td>\n",
              "      <td>13</td>\n",
              "    </tr>\n",
              "    <tr>\n",
              "      <th>2020</th>\n",
              "      <td>2.3</td>\n",
              "      <td>0.45</td>\n",
              "      <td>15</td>\n",
              "    </tr>\n",
              "  </tbody>\n",
              "</table>\n",
              "</div>"
            ],
            "text/plain": [
              "       미국    한국  중국\n",
              "2000  2.1  0.40  10\n",
              "2010  2.2  0.50  13\n",
              "2020  2.3  0.45  15"
            ]
          },
          "metadata": {
            "tags": []
          },
          "execution_count": 20
        }
      ]
    },
    {
      "cell_type": "markdown",
      "metadata": {
        "id": "vp9QYZrV24hz"
      },
      "source": [
        "**데이터프레임은 index, columns, values(CRUD - Read & Update)**\r\n",
        "* Series는 index와 values"
      ]
    },
    {
      "cell_type": "code",
      "metadata": {
        "colab": {
          "base_uri": "https://localhost:8080/"
        },
        "id": "D6AAK_N83BIb",
        "outputId": "3497bd66-3efd-4e87-d11e-2b9f02175fb2"
      },
      "source": [
        "# 행(row) 방향 index\r\n",
        "df.index"
      ],
      "execution_count": null,
      "outputs": [
        {
          "output_type": "execute_result",
          "data": {
            "text/plain": [
              "Int64Index([2000, 2010, 2020], dtype='int64')"
            ]
          },
          "metadata": {
            "tags": []
          },
          "execution_count": 21
        }
      ]
    },
    {
      "cell_type": "code",
      "metadata": {
        "colab": {
          "base_uri": "https://localhost:8080/",
          "height": 136
        },
        "id": "ysLM-3763IyB",
        "outputId": "7adf4a65-90cb-4070-d8a2-8f479e5529f3"
      },
      "source": [
        "df.index = [2001,2002,2003]\r\n",
        "df"
      ],
      "execution_count": null,
      "outputs": [
        {
          "output_type": "execute_result",
          "data": {
            "text/html": [
              "<div>\n",
              "<style scoped>\n",
              "    .dataframe tbody tr th:only-of-type {\n",
              "        vertical-align: middle;\n",
              "    }\n",
              "\n",
              "    .dataframe tbody tr th {\n",
              "        vertical-align: top;\n",
              "    }\n",
              "\n",
              "    .dataframe thead th {\n",
              "        text-align: right;\n",
              "    }\n",
              "</style>\n",
              "<table border=\"1\" class=\"dataframe\">\n",
              "  <thead>\n",
              "    <tr style=\"text-align: right;\">\n",
              "      <th></th>\n",
              "      <th>미국</th>\n",
              "      <th>한국</th>\n",
              "      <th>중국</th>\n",
              "    </tr>\n",
              "  </thead>\n",
              "  <tbody>\n",
              "    <tr>\n",
              "      <th>2001</th>\n",
              "      <td>2.1</td>\n",
              "      <td>0.40</td>\n",
              "      <td>10</td>\n",
              "    </tr>\n",
              "    <tr>\n",
              "      <th>2002</th>\n",
              "      <td>2.2</td>\n",
              "      <td>0.50</td>\n",
              "      <td>13</td>\n",
              "    </tr>\n",
              "    <tr>\n",
              "      <th>2003</th>\n",
              "      <td>2.3</td>\n",
              "      <td>0.45</td>\n",
              "      <td>15</td>\n",
              "    </tr>\n",
              "  </tbody>\n",
              "</table>\n",
              "</div>"
            ],
            "text/plain": [
              "       미국    한국  중국\n",
              "2001  2.1  0.40  10\n",
              "2002  2.2  0.50  13\n",
              "2003  2.3  0.45  15"
            ]
          },
          "metadata": {
            "tags": []
          },
          "execution_count": 22
        }
      ]
    },
    {
      "cell_type": "code",
      "metadata": {
        "colab": {
          "base_uri": "https://localhost:8080/"
        },
        "id": "I6qSDRdj3NGb",
        "outputId": "6de985e4-688b-4528-a7c5-72d83a6548e8"
      },
      "source": [
        "# 열(column) 방향 index\r\n",
        "df.columns"
      ],
      "execution_count": null,
      "outputs": [
        {
          "output_type": "execute_result",
          "data": {
            "text/plain": [
              "Index(['미국', '한국', '중국'], dtype='object')"
            ]
          },
          "metadata": {
            "tags": []
          },
          "execution_count": 23
        }
      ]
    },
    {
      "cell_type": "code",
      "metadata": {
        "id": "N5utOII-3Qt9"
      },
      "source": [
        "df.columns = ['일본','필리핀','러시아']"
      ],
      "execution_count": null,
      "outputs": []
    },
    {
      "cell_type": "code",
      "metadata": {
        "colab": {
          "base_uri": "https://localhost:8080/"
        },
        "id": "SqX00dT73f5F",
        "outputId": "9f27577e-496d-49a6-91d3-f00f955af205"
      },
      "source": [
        "df.values"
      ],
      "execution_count": null,
      "outputs": [
        {
          "output_type": "execute_result",
          "data": {
            "text/plain": [
              "array([[ 2.1 ,  0.4 , 10.  ],\n",
              "       [ 2.2 ,  0.5 , 13.  ],\n",
              "       [ 2.3 ,  0.45, 15.  ]])"
            ]
          },
          "metadata": {
            "tags": []
          },
          "execution_count": 25
        }
      ]
    },
    {
      "cell_type": "markdown",
      "metadata": {
        "id": "eXDc3ccW3qWk"
      },
      "source": [
        "**인덱스로 특정 컬럼 선택하기**"
      ]
    },
    {
      "cell_type": "code",
      "metadata": {
        "colab": {
          "base_uri": "https://localhost:8080/",
          "height": 136
        },
        "id": "aOGKMheb3tH1",
        "outputId": "7d5158b8-3542-48ba-ed0e-a2cf029e74f6"
      },
      "source": [
        "df = pd.DataFrame({\r\n",
        "    '년도': [2000,2010,2020],\r\n",
        "    '미국': [2.1,2.2,2.3],\r\n",
        "    '한국': [0.4,0.5,0.45],\r\n",
        "    '중국': [10,13,15]\r\n",
        "})\r\n",
        "df"
      ],
      "execution_count": null,
      "outputs": [
        {
          "output_type": "execute_result",
          "data": {
            "text/html": [
              "<div>\n",
              "<style scoped>\n",
              "    .dataframe tbody tr th:only-of-type {\n",
              "        vertical-align: middle;\n",
              "    }\n",
              "\n",
              "    .dataframe tbody tr th {\n",
              "        vertical-align: top;\n",
              "    }\n",
              "\n",
              "    .dataframe thead th {\n",
              "        text-align: right;\n",
              "    }\n",
              "</style>\n",
              "<table border=\"1\" class=\"dataframe\">\n",
              "  <thead>\n",
              "    <tr style=\"text-align: right;\">\n",
              "      <th></th>\n",
              "      <th>년도</th>\n",
              "      <th>미국</th>\n",
              "      <th>한국</th>\n",
              "      <th>중국</th>\n",
              "    </tr>\n",
              "  </thead>\n",
              "  <tbody>\n",
              "    <tr>\n",
              "      <th>0</th>\n",
              "      <td>2000</td>\n",
              "      <td>2.1</td>\n",
              "      <td>0.40</td>\n",
              "      <td>10</td>\n",
              "    </tr>\n",
              "    <tr>\n",
              "      <th>1</th>\n",
              "      <td>2010</td>\n",
              "      <td>2.2</td>\n",
              "      <td>0.50</td>\n",
              "      <td>13</td>\n",
              "    </tr>\n",
              "    <tr>\n",
              "      <th>2</th>\n",
              "      <td>2020</td>\n",
              "      <td>2.3</td>\n",
              "      <td>0.45</td>\n",
              "      <td>15</td>\n",
              "    </tr>\n",
              "  </tbody>\n",
              "</table>\n",
              "</div>"
            ],
            "text/plain": [
              "     년도   미국    한국  중국\n",
              "0  2000  2.1  0.40  10\n",
              "1  2010  2.2  0.50  13\n",
              "2  2020  2.3  0.45  15"
            ]
          },
          "metadata": {
            "tags": []
          },
          "execution_count": 26
        }
      ]
    },
    {
      "cell_type": "code",
      "metadata": {
        "colab": {
          "base_uri": "https://localhost:8080/",
          "height": 166
        },
        "id": "AR2xpH2R4HD2",
        "outputId": "82fef468-e3c0-4e55-e2d6-d00f57584b91"
      },
      "source": [
        "df = df.set_index('년도')\r\n",
        "df"
      ],
      "execution_count": null,
      "outputs": [
        {
          "output_type": "execute_result",
          "data": {
            "text/html": [
              "<div>\n",
              "<style scoped>\n",
              "    .dataframe tbody tr th:only-of-type {\n",
              "        vertical-align: middle;\n",
              "    }\n",
              "\n",
              "    .dataframe tbody tr th {\n",
              "        vertical-align: top;\n",
              "    }\n",
              "\n",
              "    .dataframe thead th {\n",
              "        text-align: right;\n",
              "    }\n",
              "</style>\n",
              "<table border=\"1\" class=\"dataframe\">\n",
              "  <thead>\n",
              "    <tr style=\"text-align: right;\">\n",
              "      <th></th>\n",
              "      <th>미국</th>\n",
              "      <th>한국</th>\n",
              "      <th>중국</th>\n",
              "    </tr>\n",
              "    <tr>\n",
              "      <th>년도</th>\n",
              "      <th></th>\n",
              "      <th></th>\n",
              "      <th></th>\n",
              "    </tr>\n",
              "  </thead>\n",
              "  <tbody>\n",
              "    <tr>\n",
              "      <th>2000</th>\n",
              "      <td>2.1</td>\n",
              "      <td>0.40</td>\n",
              "      <td>10</td>\n",
              "    </tr>\n",
              "    <tr>\n",
              "      <th>2010</th>\n",
              "      <td>2.2</td>\n",
              "      <td>0.50</td>\n",
              "      <td>13</td>\n",
              "    </tr>\n",
              "    <tr>\n",
              "      <th>2020</th>\n",
              "      <td>2.3</td>\n",
              "      <td>0.45</td>\n",
              "      <td>15</td>\n",
              "    </tr>\n",
              "  </tbody>\n",
              "</table>\n",
              "</div>"
            ],
            "text/plain": [
              "       미국    한국  중국\n",
              "년도                 \n",
              "2000  2.1  0.40  10\n",
              "2010  2.2  0.50  13\n",
              "2020  2.3  0.45  15"
            ]
          },
          "metadata": {
            "tags": []
          },
          "execution_count": 27
        }
      ]
    },
    {
      "cell_type": "markdown",
      "metadata": {
        "id": "rFuECUxn4SSZ"
      },
      "source": [
        "* 인덱스 이름\r\n",
        "  * 데이터프레임.index.name 으로 확인 가능\r\n",
        "  * 데이터프레임.index.name = 변경할인덱스이름 으로 수정 가능"
      ]
    },
    {
      "cell_type": "code",
      "metadata": {
        "colab": {
          "base_uri": "https://localhost:8080/",
          "height": 35
        },
        "id": "rozDHGDY4cXa",
        "outputId": "77933108-31dc-4e49-ab12-21d8e91a9ab9"
      },
      "source": [
        "df.index.name"
      ],
      "execution_count": null,
      "outputs": [
        {
          "output_type": "execute_result",
          "data": {
            "application/vnd.google.colaboratory.intrinsic+json": {
              "type": "string"
            },
            "text/plain": [
              "'년도'"
            ]
          },
          "metadata": {
            "tags": []
          },
          "execution_count": 28
        }
      ]
    },
    {
      "cell_type": "markdown",
      "metadata": {
        "id": "Umh3_fFi4xfe"
      },
      "source": [
        "**인덱스 reset**\r\n",
        "* 인덱스 데이터를 컬럼으로 변경하기"
      ]
    },
    {
      "cell_type": "code",
      "metadata": {
        "colab": {
          "base_uri": "https://localhost:8080/",
          "height": 136
        },
        "id": "6SFueR_d4Kd5",
        "outputId": "ed901701-91a8-4d26-be14-d5c47b5e3213"
      },
      "source": [
        "df = df.reset_index('년도')\r\n",
        "df"
      ],
      "execution_count": null,
      "outputs": [
        {
          "output_type": "execute_result",
          "data": {
            "text/html": [
              "<div>\n",
              "<style scoped>\n",
              "    .dataframe tbody tr th:only-of-type {\n",
              "        vertical-align: middle;\n",
              "    }\n",
              "\n",
              "    .dataframe tbody tr th {\n",
              "        vertical-align: top;\n",
              "    }\n",
              "\n",
              "    .dataframe thead th {\n",
              "        text-align: right;\n",
              "    }\n",
              "</style>\n",
              "<table border=\"1\" class=\"dataframe\">\n",
              "  <thead>\n",
              "    <tr style=\"text-align: right;\">\n",
              "      <th></th>\n",
              "      <th>년도</th>\n",
              "      <th>미국</th>\n",
              "      <th>한국</th>\n",
              "      <th>중국</th>\n",
              "    </tr>\n",
              "  </thead>\n",
              "  <tbody>\n",
              "    <tr>\n",
              "      <th>0</th>\n",
              "      <td>2000</td>\n",
              "      <td>2.1</td>\n",
              "      <td>0.40</td>\n",
              "      <td>10</td>\n",
              "    </tr>\n",
              "    <tr>\n",
              "      <th>1</th>\n",
              "      <td>2010</td>\n",
              "      <td>2.2</td>\n",
              "      <td>0.50</td>\n",
              "      <td>13</td>\n",
              "    </tr>\n",
              "    <tr>\n",
              "      <th>2</th>\n",
              "      <td>2020</td>\n",
              "      <td>2.3</td>\n",
              "      <td>0.45</td>\n",
              "      <td>15</td>\n",
              "    </tr>\n",
              "  </tbody>\n",
              "</table>\n",
              "</div>"
            ],
            "text/plain": [
              "     년도   미국    한국  중국\n",
              "0  2000  2.1  0.40  10\n",
              "1  2010  2.2  0.50  13\n",
              "2  2020  2.3  0.45  15"
            ]
          },
          "metadata": {
            "tags": []
          },
          "execution_count": 29
        }
      ]
    },
    {
      "cell_type": "code",
      "metadata": {
        "colab": {
          "base_uri": "https://localhost:8080/",
          "height": 166
        },
        "id": "4D70MAq947rr",
        "outputId": "a381ba29-57e8-439f-fa13-e45098956a2d"
      },
      "source": [
        "df = df.set_index('년도')\r\n",
        "df"
      ],
      "execution_count": null,
      "outputs": [
        {
          "output_type": "execute_result",
          "data": {
            "text/html": [
              "<div>\n",
              "<style scoped>\n",
              "    .dataframe tbody tr th:only-of-type {\n",
              "        vertical-align: middle;\n",
              "    }\n",
              "\n",
              "    .dataframe tbody tr th {\n",
              "        vertical-align: top;\n",
              "    }\n",
              "\n",
              "    .dataframe thead th {\n",
              "        text-align: right;\n",
              "    }\n",
              "</style>\n",
              "<table border=\"1\" class=\"dataframe\">\n",
              "  <thead>\n",
              "    <tr style=\"text-align: right;\">\n",
              "      <th></th>\n",
              "      <th>미국</th>\n",
              "      <th>한국</th>\n",
              "      <th>중국</th>\n",
              "    </tr>\n",
              "    <tr>\n",
              "      <th>년도</th>\n",
              "      <th></th>\n",
              "      <th></th>\n",
              "      <th></th>\n",
              "    </tr>\n",
              "  </thead>\n",
              "  <tbody>\n",
              "    <tr>\n",
              "      <th>2000</th>\n",
              "      <td>2.1</td>\n",
              "      <td>0.40</td>\n",
              "      <td>10</td>\n",
              "    </tr>\n",
              "    <tr>\n",
              "      <th>2010</th>\n",
              "      <td>2.2</td>\n",
              "      <td>0.50</td>\n",
              "      <td>13</td>\n",
              "    </tr>\n",
              "    <tr>\n",
              "      <th>2020</th>\n",
              "      <td>2.3</td>\n",
              "      <td>0.45</td>\n",
              "      <td>15</td>\n",
              "    </tr>\n",
              "  </tbody>\n",
              "</table>\n",
              "</div>"
            ],
            "text/plain": [
              "       미국    한국  중국\n",
              "년도                 \n",
              "2000  2.1  0.40  10\n",
              "2010  2.2  0.50  13\n",
              "2020  2.3  0.45  15"
            ]
          },
          "metadata": {
            "tags": []
          },
          "execution_count": 30
        }
      ]
    },
    {
      "cell_type": "markdown",
      "metadata": {
        "id": "xNjOUdgY4_R-"
      },
      "source": [
        "**데이터프레임 데이터 접근하기**\r\n",
        "* 데이터프레임.loc : index를 통해서 값을 찾음\r\n",
        "* 데이터프레임.iloc : 인덱스 번호를 통해서 값을 찾음(0부터 시작)"
      ]
    },
    {
      "cell_type": "markdown",
      "metadata": {
        "id": "AbbPqjBU5L-8"
      },
      "source": [
        "**특정 행 가져오기**"
      ]
    },
    {
      "cell_type": "code",
      "metadata": {
        "colab": {
          "base_uri": "https://localhost:8080/"
        },
        "id": "D1k_tg9R5PF5",
        "outputId": "68d3337b-a962-4431-9380-80740cfd19cc"
      },
      "source": [
        "df.loc[2000]    # 데이터타입이 Series로 반환된다."
      ],
      "execution_count": null,
      "outputs": [
        {
          "output_type": "execute_result",
          "data": {
            "text/plain": [
              "미국     2.1\n",
              "한국     0.4\n",
              "중국    10.0\n",
              "Name: 2000, dtype: float64"
            ]
          },
          "metadata": {
            "tags": []
          },
          "execution_count": 31
        }
      ]
    },
    {
      "cell_type": "code",
      "metadata": {
        "colab": {
          "base_uri": "https://localhost:8080/"
        },
        "id": "crzAdu8Z5RD4",
        "outputId": "34f29db6-27ec-42cf-82b5-ed50470a0710"
      },
      "source": [
        "df.iloc[0]"
      ],
      "execution_count": null,
      "outputs": [
        {
          "output_type": "execute_result",
          "data": {
            "text/plain": [
              "미국     2.1\n",
              "한국     0.4\n",
              "중국    10.0\n",
              "Name: 2000, dtype: float64"
            ]
          },
          "metadata": {
            "tags": []
          },
          "execution_count": 32
        }
      ]
    },
    {
      "cell_type": "markdown",
      "metadata": {
        "id": "McxGAHK_5xaI"
      },
      "source": [
        "**특정 열(컬럼) 가져오기**\r\n",
        "* 특정 열(컬럼)은 Series"
      ]
    },
    {
      "cell_type": "code",
      "metadata": {
        "colab": {
          "base_uri": "https://localhost:8080/"
        },
        "id": "q6C9_MmD52WW",
        "outputId": "615b2b34-3b1a-4d2b-9260-d6d9881e9752"
      },
      "source": [
        "df['미국']"
      ],
      "execution_count": null,
      "outputs": [
        {
          "output_type": "execute_result",
          "data": {
            "text/plain": [
              "년도\n",
              "2000    2.1\n",
              "2010    2.2\n",
              "2020    2.3\n",
              "Name: 미국, dtype: float64"
            ]
          },
          "metadata": {
            "tags": []
          },
          "execution_count": 33
        }
      ]
    },
    {
      "cell_type": "code",
      "metadata": {
        "colab": {
          "base_uri": "https://localhost:8080/"
        },
        "id": "9z_jeOLJ5-ta",
        "outputId": "ade0409d-bb26-4b4c-c454-62bf8d94f843"
      },
      "source": [
        "df"
      ],
      "execution_count": null,
      "outputs": [
        {
          "output_type": "execute_result",
          "data": {
            "text/html": [
              "<div>\n",
              "<style scoped>\n",
              "    .dataframe tbody tr th:only-of-type {\n",
              "        vertical-align: middle;\n",
              "    }\n",
              "\n",
              "    .dataframe tbody tr th {\n",
              "        vertical-align: top;\n",
              "    }\n",
              "\n",
              "    .dataframe thead th {\n",
              "        text-align: right;\n",
              "    }\n",
              "</style>\n",
              "<table border=\"1\" class=\"dataframe\">\n",
              "  <thead>\n",
              "    <tr style=\"text-align: right;\">\n",
              "      <th></th>\n",
              "      <th>미국</th>\n",
              "      <th>한국</th>\n",
              "      <th>중국</th>\n",
              "    </tr>\n",
              "    <tr>\n",
              "      <th>년도</th>\n",
              "      <th></th>\n",
              "      <th></th>\n",
              "      <th></th>\n",
              "    </tr>\n",
              "  </thead>\n",
              "  <tbody>\n",
              "    <tr>\n",
              "      <th>2000</th>\n",
              "      <td>2.1</td>\n",
              "      <td>0.40</td>\n",
              "      <td>10</td>\n",
              "    </tr>\n",
              "    <tr>\n",
              "      <th>2010</th>\n",
              "      <td>2.2</td>\n",
              "      <td>0.50</td>\n",
              "      <td>13</td>\n",
              "    </tr>\n",
              "    <tr>\n",
              "      <th>2020</th>\n",
              "      <td>2.3</td>\n",
              "      <td>0.45</td>\n",
              "      <td>15</td>\n",
              "    </tr>\n",
              "  </tbody>\n",
              "</table>\n",
              "</div>"
            ],
            "text/plain": [
              "       미국    한국  중국\n",
              "년도                 \n",
              "2000  2.1  0.40  10\n",
              "2010  2.2  0.50  13\n",
              "2020  2.3  0.45  15"
            ]
          },
          "metadata": {
            "tags": []
          },
          "execution_count": 34
        }
      ]
    },
    {
      "cell_type": "code",
      "metadata": {
        "colab": {
          "base_uri": "https://localhost:8080/"
        },
        "id": "y8eG1PHu5_2_",
        "outputId": "e814a0c6-110a-44ef-92dc-41ff143565b0"
      },
      "source": [
        "print(df['미국'][2000])\r\n",
        "print(df.loc[2000]['미국'])"
      ],
      "execution_count": null,
      "outputs": [
        {
          "output_type": "stream",
          "text": [
            "2.1\n",
            "2.1\n"
          ],
          "name": "stdout"
        }
      ]
    },
    {
      "cell_type": "markdown",
      "metadata": {
        "id": "8TI4gyhU6QdG"
      },
      "source": [
        "* 인덱스가 숫자로 입력됐는지, 문자로 입력됐는지에 따라, loc[]에서 지정하는 방식도 동일하게 해야함"
      ]
    },
    {
      "cell_type": "code",
      "metadata": {
        "colab": {
          "base_uri": "https://localhost:8080/"
        },
        "id": "Bp_SM4a86Znm",
        "outputId": "0e5023eb-95b9-4d64-c507-ff3da3355d17"
      },
      "source": [
        "df = pd.DataFrame({\r\n",
        "    '년도':['2000','2010','2020'],\r\n",
        "    '미국':[2.1,2.2,2.3],\r\n",
        "    '한국':[0.4,0.5,0.45],\r\n",
        "    '중국':[10,13,15]\r\n",
        "})\r\n",
        "df = df.set_index('년도')\r\n",
        "df"
      ],
      "execution_count": null,
      "outputs": [
        {
          "output_type": "execute_result",
          "data": {
            "text/html": [
              "<div>\n",
              "<style scoped>\n",
              "    .dataframe tbody tr th:only-of-type {\n",
              "        vertical-align: middle;\n",
              "    }\n",
              "\n",
              "    .dataframe tbody tr th {\n",
              "        vertical-align: top;\n",
              "    }\n",
              "\n",
              "    .dataframe thead th {\n",
              "        text-align: right;\n",
              "    }\n",
              "</style>\n",
              "<table border=\"1\" class=\"dataframe\">\n",
              "  <thead>\n",
              "    <tr style=\"text-align: right;\">\n",
              "      <th></th>\n",
              "      <th>미국</th>\n",
              "      <th>한국</th>\n",
              "      <th>중국</th>\n",
              "    </tr>\n",
              "    <tr>\n",
              "      <th>년도</th>\n",
              "      <th></th>\n",
              "      <th></th>\n",
              "      <th></th>\n",
              "    </tr>\n",
              "  </thead>\n",
              "  <tbody>\n",
              "    <tr>\n",
              "      <th>2000</th>\n",
              "      <td>2.1</td>\n",
              "      <td>0.40</td>\n",
              "      <td>10</td>\n",
              "    </tr>\n",
              "    <tr>\n",
              "      <th>2010</th>\n",
              "      <td>2.2</td>\n",
              "      <td>0.50</td>\n",
              "      <td>13</td>\n",
              "    </tr>\n",
              "    <tr>\n",
              "      <th>2020</th>\n",
              "      <td>2.3</td>\n",
              "      <td>0.45</td>\n",
              "      <td>15</td>\n",
              "    </tr>\n",
              "  </tbody>\n",
              "</table>\n",
              "</div>"
            ],
            "text/plain": [
              "       미국    한국  중국\n",
              "년도                 \n",
              "2000  2.1  0.40  10\n",
              "2010  2.2  0.50  13\n",
              "2020  2.3  0.45  15"
            ]
          },
          "metadata": {
            "tags": []
          },
          "execution_count": 36
        }
      ]
    },
    {
      "cell_type": "code",
      "metadata": {
        "colab": {
          "base_uri": "https://localhost:8080/"
        },
        "id": "fpkuhoTN6xxX",
        "outputId": "79b574fa-31a0-4148-b0d3-5c2ca46380a8"
      },
      "source": [
        "df.index"
      ],
      "execution_count": null,
      "outputs": [
        {
          "output_type": "execute_result",
          "data": {
            "text/plain": [
              "Index(['2000', '2010', '2020'], dtype='object', name='년도')"
            ]
          },
          "metadata": {
            "tags": []
          },
          "execution_count": 37
        }
      ]
    },
    {
      "cell_type": "code",
      "metadata": {
        "colab": {
          "base_uri": "https://localhost:8080/"
        },
        "id": "nyFtCNEX6xrO",
        "outputId": "4a645cea-214b-4391-edd2-0db1efec1959"
      },
      "source": [
        "df.loc['2000']"
      ],
      "execution_count": null,
      "outputs": [
        {
          "output_type": "execute_result",
          "data": {
            "text/plain": [
              "미국     2.1\n",
              "한국     0.4\n",
              "중국    10.0\n",
              "Name: 2000, dtype: float64"
            ]
          },
          "metadata": {
            "tags": []
          },
          "execution_count": 38
        }
      ]
    },
    {
      "cell_type": "markdown",
      "metadata": {
        "id": "mArtShl17Ckt"
      },
      "source": [
        "**dataframe 컬럼 추가 (CRUD - Update)**"
      ]
    },
    {
      "cell_type": "code",
      "metadata": {
        "id": "HjPMYN_Q7HK0"
      },
      "source": [
        "df['일본'] = [1,2,3]"
      ],
      "execution_count": null,
      "outputs": []
    },
    {
      "cell_type": "code",
      "metadata": {
        "colab": {
          "base_uri": "https://localhost:8080/"
        },
        "id": "45_edtav7JvI",
        "outputId": "e57c4bf8-3cf6-48f9-b4c1-5d32e2ae69b8"
      },
      "source": [
        "df"
      ],
      "execution_count": null,
      "outputs": [
        {
          "output_type": "execute_result",
          "data": {
            "text/html": [
              "<div>\n",
              "<style scoped>\n",
              "    .dataframe tbody tr th:only-of-type {\n",
              "        vertical-align: middle;\n",
              "    }\n",
              "\n",
              "    .dataframe tbody tr th {\n",
              "        vertical-align: top;\n",
              "    }\n",
              "\n",
              "    .dataframe thead th {\n",
              "        text-align: right;\n",
              "    }\n",
              "</style>\n",
              "<table border=\"1\" class=\"dataframe\">\n",
              "  <thead>\n",
              "    <tr style=\"text-align: right;\">\n",
              "      <th></th>\n",
              "      <th>미국</th>\n",
              "      <th>한국</th>\n",
              "      <th>중국</th>\n",
              "      <th>일본</th>\n",
              "    </tr>\n",
              "    <tr>\n",
              "      <th>년도</th>\n",
              "      <th></th>\n",
              "      <th></th>\n",
              "      <th></th>\n",
              "      <th></th>\n",
              "    </tr>\n",
              "  </thead>\n",
              "  <tbody>\n",
              "    <tr>\n",
              "      <th>2000</th>\n",
              "      <td>2.1</td>\n",
              "      <td>0.40</td>\n",
              "      <td>10</td>\n",
              "      <td>1</td>\n",
              "    </tr>\n",
              "    <tr>\n",
              "      <th>2010</th>\n",
              "      <td>2.2</td>\n",
              "      <td>0.50</td>\n",
              "      <td>13</td>\n",
              "      <td>2</td>\n",
              "    </tr>\n",
              "    <tr>\n",
              "      <th>2020</th>\n",
              "      <td>2.3</td>\n",
              "      <td>0.45</td>\n",
              "      <td>15</td>\n",
              "      <td>3</td>\n",
              "    </tr>\n",
              "  </tbody>\n",
              "</table>\n",
              "</div>"
            ],
            "text/plain": [
              "       미국    한국  중국  일본\n",
              "년도                     \n",
              "2000  2.1  0.40  10   1\n",
              "2010  2.2  0.50  13   2\n",
              "2020  2.3  0.45  15   3"
            ]
          },
          "metadata": {
            "tags": []
          },
          "execution_count": 40
        }
      ]
    },
    {
      "cell_type": "markdown",
      "metadata": {
        "id": "DU0_d7Mr7Kwy"
      },
      "source": [
        "**dataframe 컬럼 삭제 (CRUD - Delete)**\r\n",
        "* del 컬럼"
      ]
    },
    {
      "cell_type": "code",
      "metadata": {
        "colab": {
          "base_uri": "https://localhost:8080/"
        },
        "id": "hZ84X6PM7YL-",
        "outputId": "cbf0d28b-e6be-4b6f-b156-bfb9c0e8c208"
      },
      "source": [
        "del df['일본']\r\n",
        "df"
      ],
      "execution_count": null,
      "outputs": [
        {
          "output_type": "execute_result",
          "data": {
            "text/html": [
              "<div>\n",
              "<style scoped>\n",
              "    .dataframe tbody tr th:only-of-type {\n",
              "        vertical-align: middle;\n",
              "    }\n",
              "\n",
              "    .dataframe tbody tr th {\n",
              "        vertical-align: top;\n",
              "    }\n",
              "\n",
              "    .dataframe thead th {\n",
              "        text-align: right;\n",
              "    }\n",
              "</style>\n",
              "<table border=\"1\" class=\"dataframe\">\n",
              "  <thead>\n",
              "    <tr style=\"text-align: right;\">\n",
              "      <th></th>\n",
              "      <th>미국</th>\n",
              "      <th>한국</th>\n",
              "      <th>중국</th>\n",
              "    </tr>\n",
              "    <tr>\n",
              "      <th>년도</th>\n",
              "      <th></th>\n",
              "      <th></th>\n",
              "      <th></th>\n",
              "    </tr>\n",
              "  </thead>\n",
              "  <tbody>\n",
              "    <tr>\n",
              "      <th>2000</th>\n",
              "      <td>2.1</td>\n",
              "      <td>0.40</td>\n",
              "      <td>10</td>\n",
              "    </tr>\n",
              "    <tr>\n",
              "      <th>2010</th>\n",
              "      <td>2.2</td>\n",
              "      <td>0.50</td>\n",
              "      <td>13</td>\n",
              "    </tr>\n",
              "    <tr>\n",
              "      <th>2020</th>\n",
              "      <td>2.3</td>\n",
              "      <td>0.45</td>\n",
              "      <td>15</td>\n",
              "    </tr>\n",
              "  </tbody>\n",
              "</table>\n",
              "</div>"
            ],
            "text/plain": [
              "       미국    한국  중국\n",
              "년도                 \n",
              "2000  2.1  0.40  10\n",
              "2010  2.2  0.50  13\n",
              "2020  2.3  0.45  15"
            ]
          },
          "metadata": {
            "tags": []
          },
          "execution_count": 41
        }
      ]
    },
    {
      "cell_type": "markdown",
      "metadata": {
        "id": "hkDAXJ__7ktg"
      },
      "source": [
        "**참고: dataframe 행 추가 (CRUD - Update)**\r\n",
        "* 데이터프레임.loc[새로운인덱스]=리스트"
      ]
    },
    {
      "cell_type": "code",
      "metadata": {
        "colab": {
          "base_uri": "https://localhost:8080/"
        },
        "id": "HOcotCIh7kZH",
        "outputId": "4b3ee102-7e95-4471-b5b3-ece26e81e412"
      },
      "source": [
        "df = pd.DataFrame({\r\n",
        "    '년도':['2000','2010','2020'],\r\n",
        "    '미국':[2.1,2.2,2.3],\r\n",
        "    '한국':[0.4,0.5,0.45],\r\n",
        "    '중국':[10,13,15]\r\n",
        "})\r\n",
        "df = df.set_index('년도')\r\n",
        "df"
      ],
      "execution_count": null,
      "outputs": [
        {
          "output_type": "execute_result",
          "data": {
            "text/html": [
              "<div>\n",
              "<style scoped>\n",
              "    .dataframe tbody tr th:only-of-type {\n",
              "        vertical-align: middle;\n",
              "    }\n",
              "\n",
              "    .dataframe tbody tr th {\n",
              "        vertical-align: top;\n",
              "    }\n",
              "\n",
              "    .dataframe thead th {\n",
              "        text-align: right;\n",
              "    }\n",
              "</style>\n",
              "<table border=\"1\" class=\"dataframe\">\n",
              "  <thead>\n",
              "    <tr style=\"text-align: right;\">\n",
              "      <th></th>\n",
              "      <th>미국</th>\n",
              "      <th>한국</th>\n",
              "      <th>중국</th>\n",
              "    </tr>\n",
              "    <tr>\n",
              "      <th>년도</th>\n",
              "      <th></th>\n",
              "      <th></th>\n",
              "      <th></th>\n",
              "    </tr>\n",
              "  </thead>\n",
              "  <tbody>\n",
              "    <tr>\n",
              "      <th>2000</th>\n",
              "      <td>2.1</td>\n",
              "      <td>0.40</td>\n",
              "      <td>10</td>\n",
              "    </tr>\n",
              "    <tr>\n",
              "      <th>2010</th>\n",
              "      <td>2.2</td>\n",
              "      <td>0.50</td>\n",
              "      <td>13</td>\n",
              "    </tr>\n",
              "    <tr>\n",
              "      <th>2020</th>\n",
              "      <td>2.3</td>\n",
              "      <td>0.45</td>\n",
              "      <td>15</td>\n",
              "    </tr>\n",
              "  </tbody>\n",
              "</table>\n",
              "</div>"
            ],
            "text/plain": [
              "       미국    한국  중국\n",
              "년도                 \n",
              "2000  2.1  0.40  10\n",
              "2010  2.2  0.50  13\n",
              "2020  2.3  0.45  15"
            ]
          },
          "metadata": {
            "tags": []
          },
          "execution_count": 42
        }
      ]
    },
    {
      "cell_type": "code",
      "metadata": {
        "colab": {
          "base_uri": "https://localhost:8080/"
        },
        "id": "HzRjdeXM7_MD",
        "outputId": "409801e9-6768-4e2b-c923-1496fc651a5b"
      },
      "source": [
        "df.loc[2021]=[1,2,3]\r\n",
        "df"
      ],
      "execution_count": null,
      "outputs": [
        {
          "output_type": "execute_result",
          "data": {
            "text/html": [
              "<div>\n",
              "<style scoped>\n",
              "    .dataframe tbody tr th:only-of-type {\n",
              "        vertical-align: middle;\n",
              "    }\n",
              "\n",
              "    .dataframe tbody tr th {\n",
              "        vertical-align: top;\n",
              "    }\n",
              "\n",
              "    .dataframe thead th {\n",
              "        text-align: right;\n",
              "    }\n",
              "</style>\n",
              "<table border=\"1\" class=\"dataframe\">\n",
              "  <thead>\n",
              "    <tr style=\"text-align: right;\">\n",
              "      <th></th>\n",
              "      <th>미국</th>\n",
              "      <th>한국</th>\n",
              "      <th>중국</th>\n",
              "    </tr>\n",
              "    <tr>\n",
              "      <th>년도</th>\n",
              "      <th></th>\n",
              "      <th></th>\n",
              "      <th></th>\n",
              "    </tr>\n",
              "  </thead>\n",
              "  <tbody>\n",
              "    <tr>\n",
              "      <th>2000</th>\n",
              "      <td>2.1</td>\n",
              "      <td>0.40</td>\n",
              "      <td>10</td>\n",
              "    </tr>\n",
              "    <tr>\n",
              "      <th>2010</th>\n",
              "      <td>2.2</td>\n",
              "      <td>0.50</td>\n",
              "      <td>13</td>\n",
              "    </tr>\n",
              "    <tr>\n",
              "      <th>2020</th>\n",
              "      <td>2.3</td>\n",
              "      <td>0.45</td>\n",
              "      <td>15</td>\n",
              "    </tr>\n",
              "    <tr>\n",
              "      <th>2021</th>\n",
              "      <td>1.0</td>\n",
              "      <td>2.00</td>\n",
              "      <td>3</td>\n",
              "    </tr>\n",
              "  </tbody>\n",
              "</table>\n",
              "</div>"
            ],
            "text/plain": [
              "       미국    한국  중국\n",
              "년도                 \n",
              "2000  2.1  0.40  10\n",
              "2010  2.2  0.50  13\n",
              "2020  2.3  0.45  15\n",
              "2021  1.0  2.00   3"
            ]
          },
          "metadata": {
            "tags": []
          },
          "execution_count": 43
        }
      ]
    },
    {
      "cell_type": "markdown",
      "metadata": {
        "id": "mZyHkSfE8Hq5"
      },
      "source": [
        "**참고: dataframe 행 삭제 (CRUD - Delete)**\r\n",
        "* 데이터프레임.drop([인덱스이름])"
      ]
    },
    {
      "cell_type": "code",
      "metadata": {
        "colab": {
          "base_uri": "https://localhost:8080/"
        },
        "id": "bcR2tYN_8Qjc",
        "outputId": "04a56474-2afa-421c-8c21-e969df36362e"
      },
      "source": [
        "df = pd.DataFrame({\r\n",
        "    '년도':['2000','2010','2020'],\r\n",
        "    '미국':[2.1,2.2,2.3],\r\n",
        "    '한국':[0.4,0.5,0.45],\r\n",
        "    '중국':[10,13,15]\r\n",
        "})\r\n",
        "df = df.set_index('년도')\r\n",
        "df"
      ],
      "execution_count": null,
      "outputs": [
        {
          "output_type": "execute_result",
          "data": {
            "text/html": [
              "<div>\n",
              "<style scoped>\n",
              "    .dataframe tbody tr th:only-of-type {\n",
              "        vertical-align: middle;\n",
              "    }\n",
              "\n",
              "    .dataframe tbody tr th {\n",
              "        vertical-align: top;\n",
              "    }\n",
              "\n",
              "    .dataframe thead th {\n",
              "        text-align: right;\n",
              "    }\n",
              "</style>\n",
              "<table border=\"1\" class=\"dataframe\">\n",
              "  <thead>\n",
              "    <tr style=\"text-align: right;\">\n",
              "      <th></th>\n",
              "      <th>미국</th>\n",
              "      <th>한국</th>\n",
              "      <th>중국</th>\n",
              "    </tr>\n",
              "    <tr>\n",
              "      <th>년도</th>\n",
              "      <th></th>\n",
              "      <th></th>\n",
              "      <th></th>\n",
              "    </tr>\n",
              "  </thead>\n",
              "  <tbody>\n",
              "    <tr>\n",
              "      <th>2000</th>\n",
              "      <td>2.1</td>\n",
              "      <td>0.40</td>\n",
              "      <td>10</td>\n",
              "    </tr>\n",
              "    <tr>\n",
              "      <th>2010</th>\n",
              "      <td>2.2</td>\n",
              "      <td>0.50</td>\n",
              "      <td>13</td>\n",
              "    </tr>\n",
              "    <tr>\n",
              "      <th>2020</th>\n",
              "      <td>2.3</td>\n",
              "      <td>0.45</td>\n",
              "      <td>15</td>\n",
              "    </tr>\n",
              "  </tbody>\n",
              "</table>\n",
              "</div>"
            ],
            "text/plain": [
              "       미국    한국  중국\n",
              "년도                 \n",
              "2000  2.1  0.40  10\n",
              "2010  2.2  0.50  13\n",
              "2020  2.3  0.45  15"
            ]
          },
          "metadata": {
            "tags": []
          },
          "execution_count": 44
        }
      ]
    },
    {
      "cell_type": "code",
      "metadata": {
        "colab": {
          "base_uri": "https://localhost:8080/"
        },
        "id": "9fb4eg318WU4",
        "outputId": "3f86c18a-793f-48f4-ceac-cce7d933c77f"
      },
      "source": [
        "df.drop(['2020'])"
      ],
      "execution_count": null,
      "outputs": [
        {
          "output_type": "execute_result",
          "data": {
            "text/html": [
              "<div>\n",
              "<style scoped>\n",
              "    .dataframe tbody tr th:only-of-type {\n",
              "        vertical-align: middle;\n",
              "    }\n",
              "\n",
              "    .dataframe tbody tr th {\n",
              "        vertical-align: top;\n",
              "    }\n",
              "\n",
              "    .dataframe thead th {\n",
              "        text-align: right;\n",
              "    }\n",
              "</style>\n",
              "<table border=\"1\" class=\"dataframe\">\n",
              "  <thead>\n",
              "    <tr style=\"text-align: right;\">\n",
              "      <th></th>\n",
              "      <th>미국</th>\n",
              "      <th>한국</th>\n",
              "      <th>중국</th>\n",
              "    </tr>\n",
              "    <tr>\n",
              "      <th>년도</th>\n",
              "      <th></th>\n",
              "      <th></th>\n",
              "      <th></th>\n",
              "    </tr>\n",
              "  </thead>\n",
              "  <tbody>\n",
              "    <tr>\n",
              "      <th>2000</th>\n",
              "      <td>2.1</td>\n",
              "      <td>0.4</td>\n",
              "      <td>10</td>\n",
              "    </tr>\n",
              "    <tr>\n",
              "      <th>2010</th>\n",
              "      <td>2.2</td>\n",
              "      <td>0.5</td>\n",
              "      <td>13</td>\n",
              "    </tr>\n",
              "  </tbody>\n",
              "</table>\n",
              "</div>"
            ],
            "text/plain": [
              "       미국   한국  중국\n",
              "년도                \n",
              "2000  2.1  0.4  10\n",
              "2010  2.2  0.5  13"
            ]
          },
          "metadata": {
            "tags": []
          },
          "execution_count": 45
        }
      ]
    },
    {
      "cell_type": "markdown",
      "metadata": {
        "id": "u9LZl-iw8eTq"
      },
      "source": [
        "**dataframe 컬럼 선택(복사)**\r\n",
        "* 새로운 데이터 저장소가 만들어짐"
      ]
    },
    {
      "cell_type": "markdown",
      "metadata": {
        "id": "C5DZL5bX8lU9"
      },
      "source": [
        "**copy()**\r\n",
        "\r\n",
        "\r\n",
        "  > 원본 데이터는 놔두고, 복사해서 데이터를 처리하는 경우가 많음, 컬럼 리스트를 넣는다고 생각\r\n",
        "  \r\n",
        "  > 보통 원본 데이터는 온전히 보전하고, 필요한 데이터 분석시마다 필요한 컬럼만 가져올 때 많이 사용 (그 외의 경우는 안써도 됨)\r\n",
        "\r\n"
      ]
    },
    {
      "cell_type": "code",
      "metadata": {
        "id": "AkNa1Bel8_yu"
      },
      "source": [
        " df2 = df[['중국','한국']].copy()"
      ],
      "execution_count": null,
      "outputs": []
    },
    {
      "cell_type": "code",
      "metadata": {
        "colab": {
          "base_uri": "https://localhost:8080/"
        },
        "id": "NFFAN8w3IMvT",
        "outputId": "371d9ddc-e1ee-4d60-d83d-acfa3f005eaa"
      },
      "source": [
        "df2"
      ],
      "execution_count": null,
      "outputs": [
        {
          "output_type": "execute_result",
          "data": {
            "text/html": [
              "<div>\n",
              "<style scoped>\n",
              "    .dataframe tbody tr th:only-of-type {\n",
              "        vertical-align: middle;\n",
              "    }\n",
              "\n",
              "    .dataframe tbody tr th {\n",
              "        vertical-align: top;\n",
              "    }\n",
              "\n",
              "    .dataframe thead th {\n",
              "        text-align: right;\n",
              "    }\n",
              "</style>\n",
              "<table border=\"1\" class=\"dataframe\">\n",
              "  <thead>\n",
              "    <tr style=\"text-align: right;\">\n",
              "      <th></th>\n",
              "      <th>중국</th>\n",
              "      <th>한국</th>\n",
              "    </tr>\n",
              "    <tr>\n",
              "      <th>년도</th>\n",
              "      <th></th>\n",
              "      <th></th>\n",
              "    </tr>\n",
              "  </thead>\n",
              "  <tbody>\n",
              "    <tr>\n",
              "      <th>2000</th>\n",
              "      <td>10</td>\n",
              "      <td>0.40</td>\n",
              "    </tr>\n",
              "    <tr>\n",
              "      <th>2010</th>\n",
              "      <td>13</td>\n",
              "      <td>0.50</td>\n",
              "    </tr>\n",
              "    <tr>\n",
              "      <th>2020</th>\n",
              "      <td>15</td>\n",
              "      <td>0.45</td>\n",
              "    </tr>\n",
              "  </tbody>\n",
              "</table>\n",
              "</div>"
            ],
            "text/plain": [
              "      중국    한국\n",
              "년도            \n",
              "2000  10  0.40\n",
              "2010  13  0.50\n",
              "2020  15  0.45"
            ]
          },
          "metadata": {
            "tags": []
          },
          "execution_count": 47
        }
      ]
    },
    {
      "cell_type": "code",
      "metadata": {
        "id": "uUTAAC0BId0k"
      },
      "source": [
        "df2.columns = ['브라질','아르헨티나']"
      ],
      "execution_count": null,
      "outputs": []
    },
    {
      "cell_type": "code",
      "metadata": {
        "colab": {
          "base_uri": "https://localhost:8080/"
        },
        "id": "emtNicQVIg8K",
        "outputId": "00b75c95-c481-4019-bc96-a7587c4bef5d"
      },
      "source": [
        "df2"
      ],
      "execution_count": null,
      "outputs": [
        {
          "output_type": "execute_result",
          "data": {
            "text/html": [
              "<div>\n",
              "<style scoped>\n",
              "    .dataframe tbody tr th:only-of-type {\n",
              "        vertical-align: middle;\n",
              "    }\n",
              "\n",
              "    .dataframe tbody tr th {\n",
              "        vertical-align: top;\n",
              "    }\n",
              "\n",
              "    .dataframe thead th {\n",
              "        text-align: right;\n",
              "    }\n",
              "</style>\n",
              "<table border=\"1\" class=\"dataframe\">\n",
              "  <thead>\n",
              "    <tr style=\"text-align: right;\">\n",
              "      <th></th>\n",
              "      <th>브라질</th>\n",
              "      <th>아르헨티나</th>\n",
              "    </tr>\n",
              "    <tr>\n",
              "      <th>년도</th>\n",
              "      <th></th>\n",
              "      <th></th>\n",
              "    </tr>\n",
              "  </thead>\n",
              "  <tbody>\n",
              "    <tr>\n",
              "      <th>2000</th>\n",
              "      <td>10</td>\n",
              "      <td>0.40</td>\n",
              "    </tr>\n",
              "    <tr>\n",
              "      <th>2010</th>\n",
              "      <td>13</td>\n",
              "      <td>0.50</td>\n",
              "    </tr>\n",
              "    <tr>\n",
              "      <th>2020</th>\n",
              "      <td>15</td>\n",
              "      <td>0.45</td>\n",
              "    </tr>\n",
              "  </tbody>\n",
              "</table>\n",
              "</div>"
            ],
            "text/plain": [
              "      브라질  아르헨티나\n",
              "년도              \n",
              "2000   10   0.40\n",
              "2010   13   0.50\n",
              "2020   15   0.45"
            ]
          },
          "metadata": {
            "tags": []
          },
          "execution_count": 49
        }
      ]
    }
  ]
}